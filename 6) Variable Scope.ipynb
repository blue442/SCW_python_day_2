{
 "cells": [
  {
   "cell_type": "markdown",
   "metadata": {},
   "source": [
    "# Variable Scope"
   ]
  },
  {
   "cell_type": "markdown",
   "metadata": {},
   "source": [
    "<strong>Questions</strong>\n",
    "    <ul>\n",
    "        <li><p>How do function calls actually work?</p>\n",
    "</li>\n",
    "        <li><p>How can I determine where errors occurred?</p>\n",
    "</li>\n",
    "    </ul>\n",
    "<div class=\"row\">\n",
    "    <div class=\"col-md-9\">\n",
    "      <strong>Objectives</strong>\n",
    "      <ul>\n",
    "        <li><p>Identify local and global variables.</p>\n",
    "</li>\n",
    "        <li><p>Identify parameters as local variables.</p>\n",
    "</li>\n",
    "        <li><p>Read a traceback and determine the file, function, and line number on which the error occurred, the type of error, and the error message.</p>\n",
    "</li>\n",
    "      </ul>\n",
    "    </div>\n",
    "  </div>"
   ]
  },
  {
   "cell_type": "markdown",
   "metadata": {},
   "source": [
    "<h2 id=\"the-scope-of-a-variable-is-the-part-of-a-program-that-can-see-that-variable\">The scope of a variable is the part of a program that can ‘see’ that variable.</h2>\n",
    "\n",
    "<ul>\n",
    "  <li>There are only so many sensible names for variables.</li>\n",
    "  <li>People using functions shouldn’t have to worry about\n",
    "what variable names the author of the function used.</li>\n",
    "  <li>People writing functions shouldn’t have to worry about\n",
    "what variable names the function’s caller uses.</li>\n",
    "  <li>The part of a program in which a variable is visible is called its <em>scope</em>.</li>\n",
    "</ul>"
   ]
  },
  {
   "cell_type": "code",
   "execution_count": null,
   "metadata": {},
   "outputs": [],
   "source": [
    "pressure = 103.9\n",
    "\n",
    "def adjust(t):\n",
    "    temperature = t * 1.43 / pressure\n",
    "    return temperature"
   ]
  },
  {
   "cell_type": "markdown",
   "metadata": {},
   "source": [
    "<ul>\n",
    "  <li><code class=\"language-plaintext highlighter-rouge\">pressure</code> is a <em>global variable</em>.\n",
    "    <ul>\n",
    "      <li>Defined outside any particular function.</li>\n",
    "      <li>Visible everywhere.</li>\n",
    "    </ul>\n",
    "  </li>\n",
    "  <li><code class=\"language-plaintext highlighter-rouge\">t</code> and <code class=\"language-plaintext highlighter-rouge\">temperature</code> are <em>local variables</em> in <code class=\"language-plaintext highlighter-rouge\">adjust</code>.\n",
    "    <ul>\n",
    "      <li>Defined in the function.</li>\n",
    "      <li>Not visible in the main program.</li>\n",
    "      <li>Remember: a function parameter is a variable\n",
    "that is automatically assigned a value when the function is called.</li>\n",
    "    </ul>\n",
    "  </li>\n",
    "</ul>"
   ]
  },
  {
   "cell_type": "code",
   "execution_count": null,
   "metadata": {},
   "outputs": [],
   "source": [
    "print('adjusted:', adjust(0.9))\n",
    "print('temperature after call:', temperature)"
   ]
  },
  {
   "cell_type": "markdown",
   "metadata": {},
   "source": [
    "  <h2 id=\"local-and-global-variable-use\">Local and Global Variable Use</h2>\n",
    "\n",
    "  <p>Trace the values of all variables in this program as it is executed.\n",
    "(Use ‘—’ as the value of variables before and after they exist.)</p>\n"
   ]
  },
  {
   "cell_type": "code",
   "execution_count": null,
   "metadata": {},
   "outputs": [],
   "source": [
    "limit = 100\n",
    "\n",
    "def clip(value):\n",
    "    return min(max(0.0, value), limit)\n",
    "\n",
    "value = -22.5\n",
    "print(clip(value))"
   ]
  },
  {
   "cell_type": "markdown",
   "metadata": {},
   "source": [
    "  <h2 id=\"reading-error-messages\">Reading Error Messages</h2>\n",
    "\n",
    "  <p>Read the traceback below, and identify the following:</p>\n",
    "\n",
    "  <ol>\n",
    "    <li>How many levels does the traceback have?</li>\n",
    "    <li>What is the file name where the error occurred?</li>\n",
    "    <li>What is the function name where the error occurred?</li>\n",
    "    <li>On which line number in this function did the error occur?</li>\n",
    "    <li>What is the type of error?</li>\n",
    "    <li>What is the error message?</li>\n",
    "  </ol>"
   ]
  },
  {
   "cell_type": "markdown",
   "metadata": {},
   "source": [
    "<div class=\"language-plaintext error highlighter-rouge\">\n",
    "    <div class=\"highlight\">\n",
    "        <pre class=\"highlight\">\n",
    "        <code>\n",
    "        \n",
    "---------------------------------------------------------------------------\n",
    "KeyError                                  Traceback (most recent call last)\n",
    "&lt;ipython-input-2-e4c4cbafeeb5&gt; in &lt;module&gt;()\n",
    "      1 import errors_02\n",
    "----&gt; 2 errors_02.print_friday_message()\n",
    "\n",
    "/Users/ghopper/thesis/code/errors_02.py in print_friday_message()\n",
    "     13\n",
    "     14 def print_friday_message():\n",
    "---&gt; 15     print_message(\"Friday\")\n",
    "\n",
    "/Users/ghopper/thesis/code/errors_02.py in print_message(day)\n",
    "      9         \"sunday\": \"Aw, the weekend is almost over.\"\n",
    "     10     }\n",
    "---&gt; 11     print(messages[day])\n",
    "     12\n",
    "     13\n",
    "\n",
    "KeyError: 'Friday'\n",
    "</code>\n",
    "</pre>\n",
    "    </div>\n",
    "</div>"
   ]
  },
  {
   "cell_type": "markdown",
   "metadata": {},
   "source": [
    "  <h2>Key Points</h2>\n",
    "  <ul>\n",
    "    <li><p>The scope of a variable is the part of a program that can ‘see’ that variable.</p>\n",
    "</li>\n",
    "  </ul>"
   ]
  }
 ],
 "metadata": {
  "kernelspec": {
   "display_name": "IPython (Python 3)",
   "language": "python",
   "name": "python3"
  },
  "language_info": {
   "codemirror_mode": {
    "name": "ipython",
    "version": 3
   },
   "file_extension": ".py",
   "mimetype": "text/x-python",
   "name": "python",
   "nbconvert_exporter": "python",
   "pygments_lexer": "ipython3",
   "version": "3.8.5"
  }
 },
 "nbformat": 4,
 "nbformat_minor": 4
}

{
 "cells": [
  {
   "cell_type": "markdown",
   "metadata": {},
   "source": [
    "# Looping Over Data Sets"
   ]
  },
  {
   "cell_type": "markdown",
   "metadata": {},
   "source": [
    "\n",
    "<strong>Questions</strong>\n",
    "  <ul>\n",
    "    <li><p>How can I process many data sets with a single command?</p>\n",
    "    </li>\n",
    "  </ul>\n",
    "<strong>Objectives</strong>\n",
    "  <ul>\n",
    "\t<li><p>Be able to read and write globbing expressions that match sets of files.</p>\n",
    "    </li>\n",
    "\t<li><p>Use glob to create lists of files.</p>\n",
    "    </li>\n",
    "\t<li><p>Write for loops to perform operations on files given their names in a list.</p>\n",
    "    </li>\n",
    "  </ul>"
   ]
  },
  {
   "cell_type": "markdown",
   "metadata": {},
   "source": [
    "<h2 id=\"use-a-for-loop-to-process-files-given-a-list-of-their-names\">Use a <code class=\"language-plaintext highlighter-rouge\">for</code> loop to process files given a list of their names.</h2>\n",
    "\n",
    "<ul>\n",
    "  <li>A filename is a character string.</li>\n",
    "  <li>And lists can contain character strings.</li>\n",
    "</ul>\n"
   ]
  },
  {
   "cell_type": "code",
   "execution_count": null,
   "metadata": {},
   "outputs": [],
   "source": [
    "import pandas as pd\n",
    "for filename in ['data/gapminder_gdp_africa.csv', 'data/gapminder_gdp_asia.csv']:\n",
    "    data = pd.read_csv(filename, index_col='country')\n",
    "    print(filename, data.min())"
   ]
  },
  {
   "cell_type": "markdown",
   "metadata": {},
   "source": [
    "<h2 id=\"use-globglob-to-find-sets-of-files-whose-names-match-a-pattern\">Use <a href=\"https://docs.python.org/3/library/glob.html#glob.glob\"><code class=\"language-plaintext highlighter-rouge\">glob.glob</code></a> to find sets of files whose names match a pattern.</h2>\n",
    "\n",
    "<ul>\n",
    "  <li>In Unix, the term “globbing” means “matching a set of files with a pattern”.</li>\n",
    "  <li>The most common patterns are:\n",
    "    <ul>\n",
    "      <li><code class=\"language-plaintext highlighter-rouge\">*</code> meaning “match zero or more characters”</li>\n",
    "      <li><code class=\"language-plaintext highlighter-rouge\">?</code> meaning “match exactly one character”</li>\n",
    "    </ul>\n",
    "  </li>\n",
    "  <li>Python’s standard library contains the <a href=\"https://docs.python.org/3/library/glob.html\"><code class=\"language-plaintext highlighter-rouge\">glob</code></a> module to provide pattern matching functionality</li>\n",
    "  <li>The <a href=\"https://docs.python.org/3/library/glob.html\"><code class=\"language-plaintext highlighter-rouge\">glob</code></a> module contains a function also called <code class=\"language-plaintext highlighter-rouge\">glob</code> to match file patterns</li>\n",
    "  <li>E.g., <code class=\"language-plaintext highlighter-rouge\">glob.glob('*.txt')</code> matches all files in the current directory \n",
    "whose names end with <code class=\"language-plaintext highlighter-rouge\">.txt</code>.</li>\n",
    "  <li>Result is a (possibly empty) list of character strings.</li>\n",
    "</ul>\n"
   ]
  },
  {
   "cell_type": "code",
   "execution_count": null,
   "metadata": {},
   "outputs": [],
   "source": [
    "import glob\n",
    "print('all csv files in data directory:', glob.glob('data/*.csv'))"
   ]
  },
  {
   "cell_type": "code",
   "execution_count": null,
   "metadata": {},
   "outputs": [],
   "source": [
    "print('all PDB files:', glob.glob('*.pdb'))"
   ]
  },
  {
   "cell_type": "markdown",
   "metadata": {},
   "source": [
    "<h2 id=\"use-glob-and-for-to-process-batches-of-files\">Use <code class=\"language-plaintext highlighter-rouge\">glob</code> and <code class=\"language-plaintext highlighter-rouge\">for</code> to process batches of files.</h2>\n",
    "\n",
    "<ul>\n",
    "  <li>Helps a lot if the files are named and stored systematically and consistently\n",
    "so that simple patterns will find the right data.</li>\n",
    "</ul>"
   ]
  },
  {
   "cell_type": "code",
   "execution_count": null,
   "metadata": {},
   "outputs": [],
   "source": [
    "for filename in glob.glob('data/gapminder_*.csv'):\n",
    "    data = pd.read_csv(filename)\n",
    "    print(filename, data['gdpPercap_1952'].min())"
   ]
  },
  {
   "cell_type": "markdown",
   "metadata": {},
   "source": [
    "<ul>\n",
    "  <li>This includes all data, as well as per-region data.</li>\n",
    "  <li>Use a more specific pattern in the exercises to exclude the whole data set.</li>\n",
    "  <li>But note that the minimum of the entire data set is also the minimum of one of the data sets,\n",
    "which is a nice check on correctness.</li>\n",
    "</ul>"
   ]
  },
  {
   "cell_type": "markdown",
   "metadata": {},
   "source": [
    "---\n",
    "# Exercises"
   ]
  },
  {
   "cell_type": "markdown",
   "metadata": {},
   "source": [
    "  ## 1) Determining Matches\n",
    "  \n",
    "  <p>Which of these files is <em>not</em> matched by the expression <code class=\"language-plaintext highlighter-rouge\">glob.glob('data/*as*.csv')</code>?</p>\n",
    "\n",
    "  <ol>\n",
    "    <li><code class=\"language-plaintext highlighter-rouge\">data/gapminder_gdp_africa.csv</code></li>\n",
    "    <li><code class=\"language-plaintext highlighter-rouge\">data/gapminder_gdp_americas.csv</code></li>\n",
    "    <li><code class=\"language-plaintext highlighter-rouge\">data/gapminder_gdp_asia.csv</code></li>\n",
    "    <li>1 and 2 are not matched.</li>\n",
    "  </ol>\n",
    "\n",
    "  <blockquote class=\"solution\">\n",
    "    <h2 id=\"solution\">Solution</h2>\n",
    "    <p>1 is not matched by the glob.</p>\n",
    "  </blockquote>"
   ]
  },
  {
   "cell_type": "markdown",
   "metadata": {},
   "source": [
    "  ## 2) Minimum file size\n",
    "  \n",
    "  <p>Modify this program so that it prints the number of records in\n",
    "the file that has the fewest records.</p>\n",
    "\n",
    "  <div class=\"language-python highlighter-rouge\"><div class=\"highlight\"><pre class=\"highlight\"><code><span class=\"kn\">import</span> <span class=\"nn\">glob</span>\n",
    "<span class=\"kn\">import</span> <span class=\"nn\">pandas</span> <span class=\"k\">as</span> <span class=\"n\">pd</span>\n",
    "<span class=\"n\">fewest</span> <span class=\"o\">=</span> <span class=\"n\">____</span>\n",
    "<span class=\"k\">for</span> <span class=\"n\">filename</span> <span class=\"ow\">in</span> <span class=\"n\">glob</span><span class=\"p\">.</span><span class=\"n\">glob</span><span class=\"p\">(</span><span class=\"s\">'data/*.csv'</span><span class=\"p\">):</span>\n",
    "    <span class=\"n\">dataframe</span> <span class=\"o\">=</span> <span class=\"n\">pd</span><span class=\"p\">.</span><span class=\"n\">____</span><span class=\"p\">(</span><span class=\"n\">filename</span><span class=\"p\">)</span>\n",
    "    <span class=\"n\">fewest</span> <span class=\"o\">=</span> <span class=\"nb\">min</span><span class=\"p\">(</span><span class=\"n\">____</span><span class=\"p\">,</span> <span class=\"n\">dataframe</span><span class=\"p\">.</span><span class=\"n\">shape</span><span class=\"p\">[</span><span class=\"mi\">0</span><span class=\"p\">])</span>\n",
    "<span class=\"k\">print</span><span class=\"p\">(</span><span class=\"s\">'smallest file has'</span><span class=\"p\">,</span> <span class=\"n\">fewest</span><span class=\"p\">,</span> <span class=\"s\">'records'</span><span class=\"p\">)</span>\n",
    "</code></pre></div>  </div>\n",
    "  <p>Note that the <a href=\"https://pandas.pydata.org/pandas-docs/stable/reference/api/pandas.DataFrame.shape.html\">shape method</a>\n",
    "returns a tuple with the number of rows and columns of the data frame.</p>\n",
    "\n",
    "  <blockquote class=\"solution\">\n",
    "    <h2 id=\"solution-1\">Solution</h2>\n",
    "    <div class=\"language-python highlighter-rouge\"><div class=\"highlight\"><pre class=\"highlight\"><code><span class=\"kn\">import</span> <span class=\"nn\">glob</span>\n",
    "<span class=\"kn\">import</span> <span class=\"nn\">pandas</span> <span class=\"k\">as</span> <span class=\"n\">pd</span>\n",
    "<span class=\"n\">fewest</span> <span class=\"o\">=</span> <span class=\"nb\">float</span><span class=\"p\">(</span><span class=\"s\">'Inf'</span><span class=\"p\">)</span>\n",
    "<span class=\"k\">for</span> <span class=\"n\">filename</span> <span class=\"ow\">in</span> <span class=\"n\">glob</span><span class=\"p\">.</span><span class=\"n\">glob</span><span class=\"p\">(</span><span class=\"s\">'data/*.csv'</span><span class=\"p\">):</span>\n",
    "    <span class=\"n\">dataframe</span> <span class=\"o\">=</span> <span class=\"n\">pd</span><span class=\"p\">.</span><span class=\"n\">read_csv</span><span class=\"p\">(</span><span class=\"n\">filename</span><span class=\"p\">)</span>\n",
    "    <span class=\"n\">fewest</span> <span class=\"o\">=</span> <span class=\"nb\">min</span><span class=\"p\">(</span><span class=\"n\">fewest</span><span class=\"p\">,</span> <span class=\"n\">dataframe</span><span class=\"p\">.</span><span class=\"n\">shape</span><span class=\"p\">[</span><span class=\"mi\">0</span><span class=\"p\">])</span>\n",
    "<span class=\"k\">print</span><span class=\"p\">(</span><span class=\"s\">'smallest file has'</span><span class=\"p\">,</span> <span class=\"n\">fewest</span><span class=\"p\">,</span> <span class=\"s\">'records'</span><span class=\"p\">)</span>\n",
    "</code></pre></div>    </div>\n",
    "  </blockquote>"
   ]
  },
  {
   "cell_type": "markdown",
   "metadata": {},
   "source": [
    "## 3) Comparing data\n",
    "\n",
    "<p>Write a program that reads in the regional data sets\n",
    "and plots the average GDP per capita for each region over time\n",
    "in a single chart.</p>\n",
    "  <blockquote class=\"solution\">\n",
    "    <h2 id=\"solution-2\">Solution</h2>\n",
    "    <p>This solution builds a useful legend by using the string <a href=\"https://docs.python.org/3/library/stdtypes.html#str.split\"><code class=\"language-plaintext highlighter-rouge\">split</code></a> method to\n",
    "extract the <code class=\"language-plaintext highlighter-rouge\">region</code> from the path ‘data/gapminder_gdp_a_specific_region.csv’. The [<code class=\"language-plaintext highlighter-rouge\">pathlib module</code>]\n",
    "also provides useful abstractions for file and path manipulation like returning the name of a file \n",
    "without the file extension.</p>\n",
    "    <div class=\"language-python highlighter-rouge\"><div class=\"highlight\"><pre class=\"highlight\"><code><span class=\"kn\">import</span> <span class=\"nn\">glob</span>\n",
    "<span class=\"kn\">import</span> <span class=\"nn\">pandas</span> <span class=\"k\">as</span> <span class=\"n\">pd</span>\n",
    "<span class=\"kn\">import</span> <span class=\"nn\">matplotlib.pyplot</span> <span class=\"k\">as</span> <span class=\"n\">plt</span>\n",
    "<span class=\"n\">fig</span><span class=\"p\">,</span> <span class=\"n\">ax</span> <span class=\"o\">=</span> <span class=\"n\">plt</span><span class=\"p\">.</span><span class=\"n\">subplots</span><span class=\"p\">(</span><span class=\"mi\">1</span><span class=\"p\">,</span><span class=\"mi\">1</span><span class=\"p\">)</span>\n",
    "<span class=\"k\">for</span> <span class=\"n\">filename</span> <span class=\"ow\">in</span> <span class=\"n\">glob</span><span class=\"p\">.</span><span class=\"n\">glob</span><span class=\"p\">(</span><span class=\"s\">'data/gapminder_gdp*.csv'</span><span class=\"p\">):</span>\n",
    "    <span class=\"n\">dataframe</span> <span class=\"o\">=</span> <span class=\"n\">pd</span><span class=\"p\">.</span><span class=\"n\">read_csv</span><span class=\"p\">(</span><span class=\"n\">filename</span><span class=\"p\">)</span>\n",
    "    <span class=\"c1\"># extract &lt;region&gt; from the filename, expected to be in the format 'data/gapminder_gdp_&lt;region&gt;.csv'.\n",
    "</span>    <span class=\"c1\"># we will split the string using the split method and `_` as our separator,\n",
    "</span>    <span class=\"c1\"># retrieve the last string in the list that split returns (`&lt;region&gt;.csv`), \n",
    "</span>    <span class=\"c1\"># and then remove the `.csv` extension from that string.\n",
    "</span>    <span class=\"n\">region</span> <span class=\"o\">=</span> <span class=\"n\">filename</span><span class=\"p\">.</span><span class=\"n\">split</span><span class=\"p\">(</span><span class=\"s\">'_'</span><span class=\"p\">)[</span><span class=\"o\">-</span><span class=\"mi\">1</span><span class=\"p\">][:</span><span class=\"o\">-</span><span class=\"mi\">4</span><span class=\"p\">]</span> \n",
    "    <span class=\"n\">dataframe</span><span class=\"p\">.</span><span class=\"n\">mean</span><span class=\"p\">().</span><span class=\"n\">plot</span><span class=\"p\">(</span><span class=\"n\">ax</span><span class=\"o\">=</span><span class=\"n\">ax</span><span class=\"p\">,</span> <span class=\"n\">label</span><span class=\"o\">=</span><span class=\"n\">region</span><span class=\"p\">)</span>\n",
    "<span class=\"n\">plt</span><span class=\"p\">.</span><span class=\"n\">legend</span><span class=\"p\">()</span>\n",
    "<span class=\"n\">plt</span><span class=\"p\">.</span><span class=\"n\">show</span><span class=\"p\">()</span>\n",
    "</code></pre></div>    </div>\n",
    "  </blockquote>"
   ]
  },
  {
   "cell_type": "code",
   "execution_count": null,
   "metadata": {},
   "outputs": [],
   "source": [
    "import glob\n",
    "import pandas as pd\n",
    "import matplotlib.pyplot as plt\n",
    "fig, ax = plt.subplots(1,1)\n",
    "for filename in glob.glob('data/gapminder_gdp*.csv'):\n",
    "    dataframe = pd.read_csv(filename)\n",
    "    # extract <region> from the filename, expected to be in the format 'data/gapminder_gdp_<region>.csv'.\n",
    "    # we will split the string using the split method and `_` as our separator,\n",
    "    # retrieve the last string in the list that split returns (`<region>.csv`), \n",
    "    # and then remove the `.csv` extension from that string.\n",
    "    region = filename.split('_')[-1][:-4] \n",
    "    dataframe.mean().plot(ax=ax, label=region)\n",
    "plt.legend()\n",
    "plt.show()"
   ]
  },
  {
   "cell_type": "code",
   "execution_count": null,
   "metadata": {},
   "outputs": [],
   "source": []
  }
 ],
 "metadata": {
  "kernelspec": {
   "display_name": "IPython (Python 3)",
   "language": "python",
   "name": "python3"
  },
  "language_info": {
   "codemirror_mode": {
    "name": "ipython",
    "version": 3
   },
   "file_extension": ".py",
   "mimetype": "text/x-python",
   "name": "python",
   "nbconvert_exporter": "python",
   "pygments_lexer": "ipython3",
   "version": "3.8.5"
  }
 },
 "nbformat": 4,
 "nbformat_minor": 4
}

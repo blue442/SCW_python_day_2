{
 "cells": [
  {
   "cell_type": "markdown",
   "metadata": {},
   "source": [
    "# Programming Style\n",
    "---\n",
    "<div class=\"col-md-9\">\n",
    "      <strong>Questions</strong>\n",
    "      <ul>\n",
    "\t<li><p>How can I make my programs more readable?</p>\n",
    "</li>\n",
    "\t<li><p>How do most programmers format their code?</p>\n",
    "</li>\n",
    "\t<li><p>How can programs check their own operation?</p>\n",
    "</li>\n",
    "      </ul>\n",
    "    </div>\n",
    "  </div>\n",
    "  <div class=\"row\">\n",
    "    <div class=\"col-md-3\">\n",
    "    </div>\n",
    "    <div class=\"col-md-9\">\n",
    "      <strong>Objectives</strong>\n",
    "      <ul>\n",
    "\t<li><p>Provide sound justifications for basic rules of coding style.</p>\n",
    "</li>\n",
    "\t<li><p>Refactor one-page programs to make them more readable and justify the changes.</p>\n",
    "</li>\n",
    "\t<li><p>Use Python community coding standards (PEP-8).</p>\n",
    "</li>"
   ]
  },
  {
   "cell_type": "markdown",
   "metadata": {},
   "source": [
    "<h2 id=\"coding-style\">Coding style</h2>\n",
    "\n",
    "<p>Coding style helps us to understand the code better. It helps to maintain and change the code.\n",
    "Python relies strongly on coding style, as we may notice by the indentation we apply to lines to define different blocks of code.\n",
    "Python proposes a standard style through one of its first Python Enhancement Proposals (PEP), <a href=\"https://www.python.org/dev/peps/pep-0008\">PEP8</a>, and highlight the importance of readability in the <a href=\"https://www.python.org/dev/peps/pep-0020\">Zen of Python</a>.</p>\n",
    "\n",
    "<p>We may highlight some points:</p>\n",
    "<ul>\n",
    "  <li>document your code</li>\n",
    "  <li>use clear, meaningful variable names</li>\n",
    "  <li>use white-space, <em>not</em> tabs, to indent lines</li>\n",
    "</ul>"
   ]
  },
  {
   "cell_type": "markdown",
   "metadata": {},
   "source": [
    "<h2 id=\"follow-standard-python-style-in-your-code\">Follow standard Python style in your code.</h2>\n",
    "\n",
    "<ul>\n",
    "  <li><a href=\"https://www.python.org/dev/peps/pep-0008\">PEP8</a>:\n",
    "a style guide for Python that discusses topics such as how you should name variables,\n",
    "how you should use indentation in your code,\n",
    "how you should structure your <code class=\"language-plaintext highlighter-rouge\">import</code> statements,\n",
    "etc.\n",
    "Adhering to PEP8 makes it easier for other Python developers to read and understand your code,\n",
    "and to understand what their contributions should look like.\n",
    "The <a href=\"https://pypi.python.org/pypi/pep8\">PEP8 application and Python library</a>\n",
    "can check your code for compliance with PEP8.</li>\n",
    "  <li><a href=\"https://google.github.io/styleguide/pyguide.html\">Google style guide on Python</a> \n",
    "supports the use of PEP8 and extend the coding style to more specific structure of \n",
    "a Python code, which may be interesting also to follow.\n",
    "Google’s <a href=\"https://github.com/google/yapf/\">formatting application is called “yapf”</a>.</li>\n",
    "</ul>"
   ]
  },
  {
   "cell_type": "markdown",
   "metadata": {},
   "source": [
    "<h2 id=\"use-assertions-to-check-for-internal-errors\">Use assertions to check for internal errors.</h2>\n",
    "\n",
    "<p>Assertions are a simple, but powerful method for making sure that the context in which your code is executing is as you expect.</p>\n",
    "\n",
    "<div class=\"language-python highlighter-rouge\"><div class=\"highlight\"><pre class=\"highlight\"><code><span class=\"k\">def</span> <span class=\"nf\">calc_bulk_density</span><span class=\"p\">(</span><span class=\"n\">mass</span><span class=\"p\">,</span> <span class=\"n\">volume</span><span class=\"p\">):</span>\n",
    "    <span class=\"s\">'''Return dry bulk density = powder mass / powder volume.'''</span>\n",
    "    <span class=\"k\">assert</span> <span class=\"n\">volume</span> <span class=\"o\">&gt;</span> <span class=\"mi\">0</span>\n",
    "    <span class=\"k\">return</span> <span class=\"n\">mass</span> <span class=\"o\">/</span> <span class=\"n\">volume</span>\n",
    "</code></pre></div></div>\n",
    "\n",
    "<p>If the assertion is <code class=\"language-plaintext highlighter-rouge\">False</code>, the Python interpreter raises an <code class=\"language-plaintext highlighter-rouge\">AssertionError</code> runtime exception. The source code for the expression that failed will be displayed as part of the error message. To ignore assertions in your code run the interpreter with the ‘-O’ (optimize) switch. Assertions should contain only simple checks and never change the state of the program. For example, an assertion should never contain an assignment.</p>\n"
   ]
  },
  {
   "cell_type": "markdown",
   "metadata": {},
   "source": [
    "<h2 id=\"use-docstrings-to-provide-builtin-help\">Use docstrings to provide builtin help.</h2>\n",
    "\n",
    "<ul>\n",
    "  <li>If the first thing in a function is a character string\n",
    "that is not assigned directly to a variable,\n",
    "Python attaches it to the function as the builtin help variable.</li>\n",
    "  <li>Called a <em>docstring</em> (short for “documentation string”).</li>\n",
    "</ul>"
   ]
  },
  {
   "cell_type": "code",
   "execution_count": 2,
   "metadata": {},
   "outputs": [
    {
     "name": "stdout",
     "output_type": "stream",
     "text": [
      "Help on function average in module __main__:\n",
      "\n",
      "average(values)\n",
      "    Return average of values, or None if no values are supplied.\n",
      "\n"
     ]
    }
   ],
   "source": [
    "def average(values):\n",
    "    \"Return average of values, or None if no values are supplied.\"\n",
    "\n",
    "    if len(values) == 0:\n",
    "        return None\n",
    "    return sum(values) / len(values)\n",
    "\n",
    "help(average)"
   ]
  },
  {
   "cell_type": "markdown",
   "metadata": {},
   "source": [
    "<h2 id=\"multiline-strings\">Multiline Strings</h2>\n",
    "<p>Often use <em>multiline strings</em> for documentation.\n",
    "These start and end with three quote characters (either single or double)\n",
    "and end with three matching characters.</p>"
   ]
  },
  {
   "cell_type": "code",
   "execution_count": 3,
   "metadata": {},
   "outputs": [
    {
     "data": {
      "text/plain": [
       "'This string spans\\nmultiple lines.\\n\\nBlank lines are allowed.'"
      ]
     },
     "execution_count": 3,
     "metadata": {},
     "output_type": "execute_result"
    }
   ],
   "source": [
    "\"\"\"This string spans\n",
    "multiple lines.\n",
    "\n",
    "Blank lines are allowed.\"\"\""
   ]
  },
  {
   "cell_type": "markdown",
   "metadata": {},
   "source": [
    "---\n",
    "# Exercises"
   ]
  },
  {
   "cell_type": "markdown",
   "metadata": {},
   "source": [
    "<h2 id=\"document-this\">1) Document This</h2>\n",
    "\n",
    "  <p>Turn the comment on the following function into a docstring\n",
    "and check that <code class=\"language-plaintext highlighter-rouge\">help</code> displays it properly.</p>\n"
   ]
  },
  {
   "cell_type": "code",
   "execution_count": 9,
   "metadata": {},
   "outputs": [],
   "source": [
    "def middle(a, b, c):\n",
    "    # Return the middle value of three.\n",
    "    # Assumes the values can actually be compared.\n",
    "    values = [a, b, c]\n",
    "    values.sort()\n",
    "    return values[1]"
   ]
  },
  {
   "cell_type": "code",
   "execution_count": 10,
   "metadata": {},
   "outputs": [
    {
     "name": "stdout",
     "output_type": "stream",
     "text": [
      "Help on function middle in module __main__:\n",
      "\n",
      "middle(a, b, c)\n",
      "\n"
     ]
    }
   ],
   "source": [
    "help(middle)"
   ]
  },
  {
   "cell_type": "markdown",
   "metadata": {},
   "source": [
    "  <h2 id=\"clean-up-this-code\">2) Clean Up This Code</h2>\n",
    "\n",
    "  <ol>\n",
    "    <li>Read this short program and try to predict what it does.</li>\n",
    "    <li>Run it: how accurate was your prediction?</li>\n",
    "    <li>Refactor the program to make it more readable.\n",
    "Remember to run it after each change to ensure its behavior hasn’t changed.</li>\n",
    "    <li>Compare your rewrite with your neighbor’s.\n",
    "What did you do the same?\n",
    "What did you do differently, and why?</li>\n",
    "  </ol>\n"
   ]
  },
  {
   "cell_type": "code",
   "execution_count": 11,
   "metadata": {},
   "outputs": [
    {
     "name": "stdout",
     "output_type": "stream",
     "text": [
      "et cetera\n",
      "*****-***\n",
      "----*-*--\n",
      "---*---*-\n",
      "--*-*-*-*\n",
      "**-------\n",
      "***-----*\n",
      "--**---**\n",
      "*****-***\n",
      "----*-*--\n",
      "---*---*-\n"
     ]
    }
   ],
   "source": [
    "n = 10\n",
    "s = 'et cetera'\n",
    "print(s)\n",
    "i = 0\n",
    "while i < n:\n",
    "    # print('at', j)\n",
    "    new = ''\n",
    "    for j in range(len(s)):\n",
    "        left = j-1\n",
    "        right = (j+1)%len(s)\n",
    "        if s[left]==s[right]: new += '-'\n",
    "        else: new += '*'\n",
    "    s=''.join(new)\n",
    "    print(s)\n",
    "    i += 1"
   ]
  },
  {
   "cell_type": "markdown",
   "metadata": {},
   "source": [
    "Refactoring is intended to improve the design, structure, and/or implementation of the software (its non-functional attributes), while preserving its functionality. Potential advantages of refactoring may include improved code readability and reduced complexity; these can improve the source code's maintainability and create a simpler, cleaner, or more expressive internal architecture or object model to improve extensibility."
   ]
  },
  {
   "cell_type": "code",
   "execution_count": 12,
   "metadata": {},
   "outputs": [
    {
     "name": "stdout",
     "output_type": "stream",
     "text": [
      "et cetera\n",
      "*****-***\n",
      "----*-*--\n",
      "---*---*-\n",
      "--*-*-*-*\n",
      "**-------\n",
      "***-----*\n",
      "--**---**\n",
      "*****-***\n",
      "----*-*--\n",
      "---*---*-\n"
     ]
    }
   ],
   "source": [
    "def string_machine(input_string, iterations):\n",
    "    \"\"\"\n",
    "    Takes input_string and generates a new string with -'s and *'s\n",
    "    corresponding to characters that have identical adjacent characters\n",
    "    or not, respectively.  Iterates through this procedure with the resultant\n",
    "    strings for the supplied number of iterations.\n",
    "    \"\"\"\n",
    "    print(input_string)\n",
    "    input_string_length = len(input_string)\n",
    "    old = input_string\n",
    "    for i in range(iterations):\n",
    "        new = ''\n",
    "        # iterate through characters in previous string\n",
    "        for j in range(input_string_length):\n",
    "            left = j-1\n",
    "            right = (j+1) % input_string_length  # ensure right index wraps around\n",
    "            if old[left] == old[right]:\n",
    "                new += '-'\n",
    "            else:\n",
    "                new += '*'\n",
    "        print(new)\n",
    "        # store new string as old\n",
    "        old = new     \n",
    "\n",
    "string_machine('et cetera', 10)"
   ]
  },
  {
   "cell_type": "markdown",
   "metadata": {},
   "source": [
    "---\n",
    "  <h2>Key Points</h2>\n",
    "  <ul>\n",
    "    <li><p>Follow standard Python style in your code.</p>\n",
    "</li>\n",
    "    <li><p>Use docstrings to provide builtin help.</p>\n",
    "</li>\n",
    "  </ul>"
   ]
  }
 ],
 "metadata": {
  "kernelspec": {
   "display_name": "IPython (Python 3)",
   "language": "python",
   "name": "python3"
  },
  "language_info": {
   "codemirror_mode": {
    "name": "ipython",
    "version": 3
   },
   "file_extension": ".py",
   "mimetype": "text/x-python",
   "name": "python",
   "nbconvert_exporter": "python",
   "pygments_lexer": "ipython3",
   "version": "3.8.5"
  }
 },
 "nbformat": 4,
 "nbformat_minor": 4
}

{
 "cells": [
  {
   "cell_type": "markdown",
   "metadata": {},
   "source": [
    "# Conditionals"
   ]
  },
  {
   "cell_type": "markdown",
   "metadata": {},
   "source": [
    "<div class=\"col-md-9\">\n",
    "      <strong>Questions</strong>\n",
    "      <ul>\n",
    "        <li><p>How can programs do different things for different data?</p>\n",
    "      </ul>\n",
    "    </div>\n",
    "  </div>\n",
    "\n",
    "  <div class=\"row\">\n",
    "    <div class=\"col-md-3\">\n",
    "    </div>\n",
    "    <div class=\"col-md-9\">\n",
    "      <strong>Objectives</strong>\n",
    "      <ul>\n",
    "        <li><p>Correctly write programs that use if and else statements and simple Boolean expressions (without logical operators).</p></li>\n",
    "\t<li><p>Trace the execution of unnested conditionals and conditionals inside loops.</p></li>\n",
    "      </ul>\n",
    "    </div>\n",
    "  </div>"
   ]
  },
  {
   "cell_type": "markdown",
   "metadata": {},
   "source": [
    "<h2 id=\"use-if-statements-to-control-whether-or-not-a-block-of-code-is-executed\">Use <code class=\"language-plaintext highlighter-rouge\">if</code> statements to control whether or not a block of code is executed.</h2>\n",
    "\n",
    "<ul>\n",
    "  <li>An <code class=\"language-plaintext highlighter-rouge\">if</code> statement (more properly called a <em>conditional</em> statement)\n",
    "controls whether some block of code is executed or not.</li>\n",
    "  <li>Structure is similar to a <code class=\"language-plaintext highlighter-rouge\">for</code> statement:\n",
    "    <ul>\n",
    "      <li>First line opens with <code class=\"language-plaintext highlighter-rouge\">if</code> and ends with a colon</li>\n",
    "      <li>Body containing one or more statements is indented (usually by 4 spaces)</li>\n",
    "    </ul>\n",
    "  </li>\n",
    "</ul>"
   ]
  },
  {
   "cell_type": "code",
   "execution_count": null,
   "metadata": {},
   "outputs": [],
   "source": [
    "mass = 3.54\n",
    "if mass > 3.0:\n",
    "    print(mass, 'is large')\n",
    "\n",
    "mass = 2.07\n",
    "if mass > 3.0:\n",
    "    print (mass, 'is large')"
   ]
  },
  {
   "cell_type": "markdown",
   "metadata": {},
   "source": [
    "<h2 id=\"conditionals-are-often-used-inside-loops\">Conditionals are often used inside loops.</h2>\n",
    "\n",
    "<ul>\n",
    "  <li>Not much point using a conditional when we know the value (as above).</li>\n",
    "  <li>But useful when we have a collection to process.</li>\n",
    "</ul>\n"
   ]
  },
  {
   "cell_type": "code",
   "execution_count": null,
   "metadata": {},
   "outputs": [],
   "source": [
    "masses = [3.54, 2.07, 9.22, 1.86, 1.71]\n",
    "for m in masses:\n",
    "    if m > 3.0:\n",
    "        print(m, 'is large')"
   ]
  },
  {
   "cell_type": "markdown",
   "metadata": {},
   "source": [
    "<h2 id=\"use-else-to-execute-a-block-of-code-when-an-if-condition-is-not-true\">Use <code class=\"language-plaintext highlighter-rouge\">else</code> to execute a block of code when an <code class=\"language-plaintext highlighter-rouge\">if</code> condition is <em>not</em> true.</h2>\n",
    "\n",
    "<ul>\n",
    "  <li><code class=\"language-plaintext highlighter-rouge\">else</code> can be used following an <code class=\"language-plaintext highlighter-rouge\">if</code>.</li>\n",
    "  <li>Allows us to specify an alternative to execute when the <code class=\"language-plaintext highlighter-rouge\">if</code> <em>branch</em> isn’t taken.</li>\n",
    "</ul>"
   ]
  },
  {
   "cell_type": "code",
   "execution_count": null,
   "metadata": {},
   "outputs": [],
   "source": [
    "masses = [3.54, 2.07, 9.22, 1.86, 1.71]\n",
    "for m in masses:\n",
    "    if m > 3.0:\n",
    "        print(m, 'is large')\n",
    "    else:\n",
    "        print(m, 'is small')"
   ]
  },
  {
   "cell_type": "markdown",
   "metadata": {},
   "source": [
    "<h2 id=\"use-elif-to-specify-additional-tests\">Use <code class=\"language-plaintext highlighter-rouge\">elif</code> to specify additional tests.</h2>\n",
    "\n",
    "<ul>\n",
    "  <li>May want to provide several alternative choices, each with its own test.</li>\n",
    "  <li>Use <code class=\"language-plaintext highlighter-rouge\">elif</code> (short for “else if”) and a condition to specify these.</li>\n",
    "  <li>Always associated with an <code class=\"language-plaintext highlighter-rouge\">if</code>.</li>\n",
    "  <li>Must come before the <code class=\"language-plaintext highlighter-rouge\">else</code> (which is the “catch all”).</li>\n",
    "</ul>"
   ]
  },
  {
   "cell_type": "code",
   "execution_count": null,
   "metadata": {},
   "outputs": [],
   "source": [
    "masses = [3.54, 2.07, 9.22, 1.86, 1.71]\n",
    "for m in masses:\n",
    "    if m > 9.0:\n",
    "        print(m, 'is HUGE')\n",
    "    elif m > 3.0:\n",
    "        print(m, 'is large')\n",
    "    else:\n",
    "        print(m, 'is small')"
   ]
  },
  {
   "cell_type": "markdown",
   "metadata": {},
   "source": [
    "<h2 id=\"conditions-are-tested-once-in-order\">Conditions are tested once, in order.</h2>\n",
    "\n",
    "<ul>\n",
    "  <li>Python steps through the branches of the conditional in order, testing each in turn.</li>\n",
    "  <li>So ordering matters.</li>\n",
    "</ul>"
   ]
  },
  {
   "cell_type": "code",
   "execution_count": null,
   "metadata": {},
   "outputs": [],
   "source": [
    "grade = 85\n",
    "if grade >= 70:\n",
    "    print('grade is C')\n",
    "elif grade >= 80:\n",
    "    print('grade is B')\n",
    "elif grade >= 90:\n",
    "    print('grade is A')"
   ]
  },
  {
   "cell_type": "markdown",
   "metadata": {},
   "source": [
    "<ul>\n",
    "  <li>Does <em>not</em> automatically go back and re-evaluate if values change.</li>\n",
    "</ul>\n"
   ]
  },
  {
   "cell_type": "code",
   "execution_count": null,
   "metadata": {},
   "outputs": [],
   "source": [
    "velocity = 10.0\n",
    "if velocity > 20.0:\n",
    "    print('moving too fast')\n",
    "else:\n",
    "    print('adjusting velocity')\n",
    "    velocity = 50.0"
   ]
  },
  {
   "cell_type": "markdown",
   "metadata": {},
   "source": [
    "<ul>\n",
    "  <li>Often use conditionals in a loop to “evolve” the values of variables.</li>\n",
    "</ul>"
   ]
  },
  {
   "cell_type": "code",
   "execution_count": null,
   "metadata": {},
   "outputs": [],
   "source": [
    "velocity = 10.0\n",
    "for i in range(5): # execute the loop 5 times\n",
    "    print(i, ':', velocity)\n",
    "    if velocity > 20.0:\n",
    "        print('moving too fast')\n",
    "        velocity = velocity - 5.0\n",
    "    else:\n",
    "        print('moving too slow')\n",
    "        velocity = velocity + 10.0\n",
    "print('final velocity:', velocity)"
   ]
  },
  {
   "cell_type": "markdown",
   "metadata": {},
   "source": [
    "<h2 id=\"create-a-table-showing-variables-values-to-trace-a-programs-execution\">Create a table showing variables’ values to trace a program’s execution.</h2>\n",
    "\n",
    "<table>\n",
    "  <tr>\n",
    "    <td><strong>i</strong></td>\n",
    "    <td>0</td>\n",
    "    <td>.</td>\n",
    "    <td>1</td>\n",
    "    <td>.</td>\n",
    "    <td>2</td>\n",
    "    <td>.</td>\n",
    "    <td>3</td>\n",
    "    <td>.</td>\n",
    "    <td>4</td>\n",
    "    <td>.</td>\n",
    "  </tr>\n",
    "  <tr>\n",
    "    <td><strong>velocity</strong></td>\n",
    "    <td>10.0</td>\n",
    "    <td>20.0</td>\n",
    "    <td>.</td>\n",
    "    <td>30.0</td>\n",
    "    <td>.</td>\n",
    "    <td>25.0</td>\n",
    "    <td>.</td>\n",
    "    <td>20.0</td>\n",
    "    <td>.</td>\n",
    "    <td>30.0</td>\n",
    "  </tr>\n",
    "</table>\n",
    "\n",
    "<ul>\n",
    "  <li>The program must have a <code class=\"language-plaintext highlighter-rouge\">print</code> statement <em>outside</em> the body of the loop\n",
    "to show the final value of <code class=\"language-plaintext highlighter-rouge\">velocity</code>,\n",
    "since its value is updated by the last iteration of the loop.</li>\n",
    "</ul>\n",
    "\n",
    "<blockquote class=\"callout\">\n",
    "  <h2 id=\"compound-relations-using-and-or-and-parentheses\">Compound Relations Using <code class=\"language-plaintext highlighter-rouge\">and</code>, <code class=\"language-plaintext highlighter-rouge\">or</code>, and Parentheses</h2>\n",
    "\n",
    "  <p>Often, you want some combination of things to be true.  You can combine\n",
    "relations within a conditional using <code class=\"language-plaintext highlighter-rouge\">and</code> and <code class=\"language-plaintext highlighter-rouge\">or</code>.  Continuing the example\n",
    "above, suppose you have</p>"
   ]
  },
  {
   "cell_type": "code",
   "execution_count": null,
   "metadata": {},
   "outputs": [],
   "source": [
    "mass     = [ 3.54,  2.07,  9.22,  1.86,  1.71]\n",
    "velocity = [10.00, 20.00, 30.00, 25.00, 20.00]\n",
    "\n",
    "i = 0\n",
    "for i in range(5):\n",
    "    if mass[i] > 5 and velocity[i] > 20:\n",
    "        print(\"Fast heavy object.  Duck!\")\n",
    "    elif mass[i] > 2 and mass[i] <= 5 and velocity[i] <= 20:\n",
    "        print(\"Normal traffic\")\n",
    "    elif mass[i] <= 2 and velocity[i] <= 20:\n",
    "        print(\"Slow light object.  Ignore it\")\n",
    "    else:\n",
    "        print(\"Whoa!  Something is up with the data.  Check it\")"
   ]
  },
  {
   "cell_type": "markdown",
   "metadata": {},
   "source": [
    "  <p>Just like with arithmetic, you can and should use parentheses whenever there\n",
    "is possible ambiguity.  A good general rule is to <em>always</em> use parentheses\n",
    "when mixing <code class=\"language-plaintext highlighter-rouge\">and</code> and <code class=\"language-plaintext highlighter-rouge\">or</code> in the same condition.  That is, instead of:</p>"
   ]
  },
  {
   "cell_type": "code",
   "execution_count": null,
   "metadata": {},
   "outputs": [],
   "source": [
    "if mass[i] <= 2 or mass[i] >= 5 and velocity[i] > 20:\n",
    "    print('yes')"
   ]
  },
  {
   "cell_type": "markdown",
   "metadata": {},
   "source": [
    "  <p>write one of these:</p>"
   ]
  },
  {
   "cell_type": "code",
   "execution_count": null,
   "metadata": {},
   "outputs": [],
   "source": [
    "if (mass[i] <= 2 or mass[i] >= 5) and velocity[i] > 20:\n",
    "    print('yes')"
   ]
  },
  {
   "cell_type": "code",
   "execution_count": null,
   "metadata": {},
   "outputs": [],
   "source": [
    "if mass[i] <= 2 or (mass[i] >= 5 and velocity[i] > 20):\n",
    "    print('yes')"
   ]
  },
  {
   "cell_type": "markdown",
   "metadata": {},
   "source": [
    "<p>so it is perfectly clear to a reader (and to Python) what you really mean.</p>"
   ]
  },
  {
   "cell_type": "markdown",
   "metadata": {},
   "source": [
    "---"
   ]
  },
  {
   "cell_type": "markdown",
   "metadata": {},
   "source": [
    "# Exercises"
   ]
  },
  {
   "cell_type": "markdown",
   "metadata": {},
   "source": [
    "  <h2 id=\"tracing-execution\">1) Tracing Execution</h2>\n",
    "\n",
    "  <p>What does this program print?</p>"
   ]
  },
  {
   "cell_type": "code",
   "execution_count": null,
   "metadata": {},
   "outputs": [],
   "source": [
    "pressure = 71.9\n",
    "if pressure > 50.0:\n",
    "    pressure = 25.0\n",
    "elif pressure <= 50.0:\n",
    "    pressure = 0.0\n",
    "print(pressure)"
   ]
  },
  {
   "cell_type": "markdown",
   "metadata": {},
   "source": [
    "<h2 id=\"trimming-values\">2) Trimming Values</h2>\n",
    "\n",
    "  <p>Fill in the blanks so that this program creates a new list\n",
    "containing zeroes where the original list’s values were negative\n",
    "and ones where the original list’s values were positive.</p>\n",
    "\n",
    "<div class=\"language-python highlighter-rouge\"><div class=\"highlight\"><pre class=\"highlight\"><code><span class=\"n\">original</span> <span class=\"o\">=</span> <span class=\"p\">[</span><span class=\"o\">-</span><span class=\"mf\">1.5</span><span class=\"p\">,</span> <span class=\"mf\">0.2</span><span class=\"p\">,</span> <span class=\"mf\">0.4</span><span class=\"p\">,</span> <span class=\"mf\">0.0</span><span class=\"p\">,</span> <span class=\"o\">-</span><span class=\"mf\">1.3</span><span class=\"p\">,</span> <span class=\"mf\">0.4</span><span class=\"p\">]</span>\n",
    "<span class=\"n\">result</span> <span class=\"o\">=</span> <span class=\"n\">____</span>\n",
    "<span class=\"k\">for</span> <span class=\"n\">value</span> <span class=\"ow\">in</span> <span class=\"n\">original</span><span class=\"p\">:</span>\n",
    "    <span class=\"k\">if</span> <span class=\"n\">____</span><span class=\"p\">:</span>\n",
    "        <span class=\"n\">result</span><span class=\"p\">.</span><span class=\"n\">append</span><span class=\"p\">(</span><span class=\"mi\">0</span><span class=\"p\">)</span>\n",
    "    <span class=\"k\">else</span><span class=\"p\">:</span>\n",
    "        <span class=\"n\">____</span>\n",
    "<span class=\"k\">print</span><span class=\"p\">(</span><span class=\"n\">result</span><span class=\"p\">)</span>\n",
    "</code></pre></div>  </div>\n",
    "\n",
    "  <div class=\"language-plaintext output highlighter-rouge\"><div class=\"highlight\"><pre class=\"highlight\"><code>[0, 1, 1, 1, 0, 1]\n",
    "</code></pre></div>  </div>\n",
    "  <blockquote>\n",
    "    <h2>Solution</h2>\n",
    "```\n",
    "original = [-1.5, 0.2, 0.4, 0.0, -1.3, 0.4]\n",
    "result = []\n",
    "for value in original:\n",
    "    if value<0.0:\n",
    "        result.append(0)\n",
    "    else:\n",
    "        result.append(1)\n",
    "print(result)\n",
    "```\n",
    "  </blockquote>"
   ]
  },
  {
   "cell_type": "markdown",
   "metadata": {},
   "source": [
    "  <h2 id=\"using-functions-with-conditionals-in-pandas\">3) Using Functions With Conditionals in Pandas</h2>\n",
    "\n",
    "  <p>Functions will often contain conditionals.  Here is a short example that\n",
    "will indicate which quartile the argument is in based on hand-coded values\n",
    "for the quartile cut points.</p>"
   ]
  },
  {
   "cell_type": "code",
   "execution_count": null,
   "metadata": {},
   "outputs": [],
   "source": [
    "def calculate_gdp_per_capita_quartile(gdp):\n",
    "    if gdp < 5728.35:\n",
    "        # This observation is in the first quartile\n",
    "        return 1\n",
    "    elif gdp >= 5728.35 and gdp < 8948.11:\n",
    "        # This observation is in the second quartile\n",
    "       return 2\n",
    "    elif gdp >= 8948.11 and gdp < 11977.57:\n",
    "        # This observation is in the third quartile\n",
    "       return 3\n",
    "    elif gdp >= 11977.57:\n",
    "        # This observation is in the fourth quartile\n",
    "       return 4\n",
    "    else:\n",
    "        # This observation has bad data\n",
    "       return None\n",
    "\n",
    "calculate_gdp_per_capita_quartile(11500)"
   ]
  },
  {
   "cell_type": "markdown",
   "metadata": {},
   "source": [
    "  <p>That function would typically be used within a <code class=\"language-plaintext highlighter-rouge\">for</code> loop, but Pandas has\n",
    "a different, more efficient way of doing the same thing, and that is by\n",
    "<em>applying</em> a function to a dataframe or a portion of a dataframe.  Here\n",
    "is an example, using the definition above.</p>"
   ]
  },
  {
   "cell_type": "code",
   "execution_count": null,
   "metadata": {},
   "outputs": [],
   "source": [
    "import pandas as pd\n",
    "data = pd.read_csv('data/gapminder_gdp_americas.csv')\n",
    "data['qrtl'] = data['gdpPercap_2007'].apply(calculate_gdp_per_capita_quartile)"
   ]
  },
  {
   "cell_type": "markdown",
   "metadata": {},
   "source": [
    "  <p>There is a lot in that second line, so let’s take it piece by piece.\n",
    "On the right side of the <code class=\"language-plaintext highlighter-rouge\">=</code> we start with <code class=\"language-plaintext highlighter-rouge\">data['lifeExp']</code>, which is the\n",
    "column in the dataframe called <code class=\"language-plaintext highlighter-rouge\">data</code> labeled <code class=\"language-plaintext highlighter-rouge\">lifExp</code>.  We use the\n",
    "<code class=\"language-plaintext highlighter-rouge\">apply()</code> to do what it says, apply the <code class=\"language-plaintext highlighter-rouge\">calculate_life_quartile</code> to the\n",
    "value of this column for every row in the dataframe.</p>"
   ]
  },
  {
   "cell_type": "code",
   "execution_count": null,
   "metadata": {},
   "outputs": [],
   "source": [
    "data[['gdpPercap_2007', 'qrtl']]"
   ]
  },
  {
   "cell_type": "markdown",
   "metadata": {},
   "source": [
    "---\n",
    "\n",
    "<h2>Key Points</h2>\n",
    "  <ul>\n",
    "    <li><p>Use <code class=\"language-plaintext highlighter-rouge\">if</code> statements to control whether or not a block of code is executed.</p>\n",
    "</li>\n",
    "    <li><p>Conditionals are often used inside loops.</p>\n",
    "</li>\n",
    "    <li><p>Use <code class=\"language-plaintext highlighter-rouge\">else</code> to execute a block of code when an <code class=\"language-plaintext highlighter-rouge\">if</code> condition is <em>not</em> true.</p>\n",
    "</li>\n",
    "    <li><p>Use <code class=\"language-plaintext highlighter-rouge\">elif</code> to specify additional tests.</p>\n",
    "</li>\n",
    "    <li><p>Conditions are tested once, in order.</p>\n",
    "</li>\n",
    "    <li><p>Create a table showing variables’ values to trace a program’s execution.</p>\n",
    "</li>\n",
    "  </ul>"
   ]
  }
 ],
 "metadata": {
  "kernelspec": {
   "display_name": "IPython (Python 3)",
   "language": "python",
   "name": "python3"
  },
  "language_info": {
   "codemirror_mode": {
    "name": "ipython",
    "version": 3
   },
   "file_extension": ".py",
   "mimetype": "text/x-python",
   "name": "python",
   "nbconvert_exporter": "python",
   "pygments_lexer": "ipython3",
   "version": "3.8.5"
  }
 },
 "nbformat": 4,
 "nbformat_minor": 4
}

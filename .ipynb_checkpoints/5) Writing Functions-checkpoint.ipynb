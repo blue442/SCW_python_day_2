{
 "cells": [
  {
   "cell_type": "markdown",
   "metadata": {},
   "source": [
    "# Writing Functions\n",
    "\n",
    "---\n",
    "\n",
    "<strong>Questions</strong>\n",
    "      <ul>\n",
    "\t<li><p>How can I create my own functions?</p>\n",
    "</li>\n",
    "      </ul>\n",
    "      <strong>Objectives</strong>\n",
    "      <ul>\n",
    "\t<li><p>Explain and identify the difference between function definition and function call.</p>\n",
    "</li>\n",
    "\t<li><p>Write a function that takes a small, fixed number of arguments and produces a single result.</p>\n",
    "</li>\n",
    "      </ul>"
   ]
  },
  {
   "cell_type": "markdown",
   "metadata": {},
   "source": [
    "<h2 id=\"break-programs-down-into-functions-to-make-them-easier-to-understand\">Break programs down into functions to make them easier to understand.</h2>\n",
    "\n",
    "<ul>\n",
    "  <li>Human beings can only keep a few items in working memory at a time.</li>\n",
    "  <li>Understand larger/more complicated ideas by understanding and combining pieces.\n",
    "    <ul>\n",
    "      <li>Components in a machine.</li>\n",
    "      <li>Lemmas when proving theorems.</li>\n",
    "    </ul>\n",
    "  </li>\n",
    "  <li>Functions serve the same purpose in programs.\n",
    "    <ul>\n",
    "      <li><em>Encapsulate</em> complexity so that we can treat it as a single “thing”.</li>\n",
    "    </ul>\n",
    "  </li>\n",
    "  <li>Also enables <em>re-use</em>.\n",
    "    <ul>\n",
    "      <li>Write one time, use many times.</li>\n",
    "    </ul>\n",
    "  </li>\n",
    "</ul>"
   ]
  },
  {
   "cell_type": "markdown",
   "metadata": {},
   "source": [
    "<h2 id=\"define-a-function-using-def-with-a-name-parameters-and-a-block-of-code\">Define a function using <code class=\"language-plaintext highlighter-rouge\">def</code> with a name, parameters, and a block of code.</h2>\n",
    "\n",
    "<ul>\n",
    "  <li>Begin the definition of a new function with <code class=\"language-plaintext highlighter-rouge\">def</code>.</li>\n",
    "  <li>Followed by the name of the function.\n",
    "    <ul>\n",
    "      <li>Must obey the same rules as variable names.</li>\n",
    "    </ul>\n",
    "  </li>\n",
    "  <li>Then <em>parameters</em> in parentheses.\n",
    "    <ul>\n",
    "      <li>Empty parentheses if the function doesn’t take any inputs.</li>\n",
    "      <li>We will discuss this in detail in a moment.</li>\n",
    "    </ul>\n",
    "  </li>\n",
    "  <li>Then a colon.</li>\n",
    "  <li>Then an indented block of code.</li>\n",
    "</ul>"
   ]
  },
  {
   "cell_type": "code",
   "execution_count": 1,
   "metadata": {},
   "outputs": [],
   "source": [
    "def print_greeting():\n",
    "    print('Hello!')"
   ]
  },
  {
   "cell_type": "markdown",
   "metadata": {},
   "source": [
    "<ul>\n",
    "  <li>Defining a function does not run it.\n",
    "    <ul>\n",
    "      <li>Like assigning a value to a variable.</li>\n",
    "    </ul>\n",
    "  </li>\n",
    "  <li>Must call the function to execute the code it contains.</li>\n",
    "</ul>"
   ]
  },
  {
   "cell_type": "code",
   "execution_count": 2,
   "metadata": {},
   "outputs": [
    {
     "name": "stdout",
     "output_type": "stream",
     "text": [
      "Hello!\n"
     ]
    }
   ],
   "source": [
    "print_greeting()"
   ]
  },
  {
   "cell_type": "markdown",
   "metadata": {},
   "source": [
    "<h2 id=\"arguments-in-call-are-matched-to-parameters-in-definition\">Arguments in call are matched to parameters in definition.</h2>\n",
    "\n",
    "<ul>\n",
    "  <li>Functions are most useful when they can operate on different data.</li>\n",
    "  <li>Specify <em>parameters</em> when defining a function.\n",
    "    <ul>\n",
    "      <li>These become variables when the function is executed.</li>\n",
    "      <li>Are assigned the arguments in the call (i.e., the values passed to the function).</li>\n",
    "      <li>If you don’t name the arguments when using them in the call, the arguments will be matched to\n",
    "parameters in the order the parameters are defined in the function.</li>\n",
    "    </ul>\n",
    "  </li>\n",
    "</ul>"
   ]
  },
  {
   "cell_type": "code",
   "execution_count": 3,
   "metadata": {},
   "outputs": [],
   "source": [
    "def print_date(year, month, day):\n",
    "    joined = str(year) + '/' + str(month) + '/' + str(day)\n",
    "    print(joined)"
   ]
  },
  {
   "cell_type": "code",
   "execution_count": 4,
   "metadata": {},
   "outputs": [
    {
     "name": "stdout",
     "output_type": "stream",
     "text": [
      "1871/3/19\n"
     ]
    }
   ],
   "source": [
    "print_date(1871, 3, 19)"
   ]
  },
  {
   "cell_type": "markdown",
   "metadata": {},
   "source": [
    "<p>Or, we can name the arguments when we call the function, which allows us to\n",
    "specify them in any order:</p>"
   ]
  },
  {
   "cell_type": "code",
   "execution_count": 5,
   "metadata": {},
   "outputs": [
    {
     "name": "stdout",
     "output_type": "stream",
     "text": [
      "1871/3/19\n"
     ]
    }
   ],
   "source": [
    "print_date(month=3, day=19, year=1871)"
   ]
  },
  {
   "cell_type": "markdown",
   "metadata": {},
   "source": [
    "<ul>\n",
    "  <li>Via <a href=\"https://twitter.com/minisciencegirl/status/693486088963272705\">Twitter</a>:\n",
    "<code class=\"language-plaintext highlighter-rouge\">()</code> contains the ingredients for the function\n",
    "while the body contains the recipe.</li>\n",
    "</ul>"
   ]
  },
  {
   "cell_type": "markdown",
   "metadata": {},
   "source": [
    "<h2 id=\"functions-may-return-a-result-to-their-caller-using-return\">Functions may return a result to their caller using <code class=\"language-plaintext highlighter-rouge\">return</code>.</h2>\n",
    "\n",
    "<ul>\n",
    "  <li>Use <code class=\"language-plaintext highlighter-rouge\">return ...</code> to give a value back to the caller.</li>\n",
    "  <li>May occur anywhere in the function.</li>\n",
    "  <li>But functions are easier to understand if <code class=\"language-plaintext highlighter-rouge\">return</code> occurs:\n",
    "    <ul>\n",
    "      <li>At the start to handle special cases.</li>\n",
    "      <li>At the very end, with a final result.</li>\n",
    "    </ul>\n",
    "  </li>\n",
    "</ul>"
   ]
  },
  {
   "cell_type": "code",
   "execution_count": 6,
   "metadata": {},
   "outputs": [],
   "source": [
    "def average(values):\n",
    "    if len(values) == 0:\n",
    "        return None\n",
    "    return sum(values) / len(values)"
   ]
  },
  {
   "cell_type": "code",
   "execution_count": 7,
   "metadata": {},
   "outputs": [
    {
     "name": "stdout",
     "output_type": "stream",
     "text": [
      "average of actual values: 2.6666666666666665\n"
     ]
    }
   ],
   "source": [
    "a = average([1, 3, 4])\n",
    "print('average of actual values:', a)"
   ]
  },
  {
   "cell_type": "code",
   "execution_count": 8,
   "metadata": {},
   "outputs": [
    {
     "name": "stdout",
     "output_type": "stream",
     "text": [
      "average of empty list: None\n"
     ]
    }
   ],
   "source": [
    "print('average of empty list:', average([]))"
   ]
  },
  {
   "cell_type": "markdown",
   "metadata": {},
   "source": [
    "<ul>\n",
    "  <li>Remember: <a href=\"../04-built-in/\">every function returns something</a>.</li>\n",
    "  <li>A function that doesn’t explicitly <code class=\"language-plaintext highlighter-rouge\">return</code> a value automatically returns <code class=\"language-plaintext highlighter-rouge\">None</code>.</li>\n",
    "</ul>"
   ]
  },
  {
   "cell_type": "code",
   "execution_count": 9,
   "metadata": {},
   "outputs": [
    {
     "name": "stdout",
     "output_type": "stream",
     "text": [
      "1871/3/19\n",
      "result of call is: None\n"
     ]
    }
   ],
   "source": [
    "result = print_date(1871, 3, 19)\n",
    "print('result of call is:', result)"
   ]
  },
  {
   "cell_type": "markdown",
   "metadata": {},
   "source": [
    "---\n",
    "# Exercises"
   ]
  },
  {
   "cell_type": "markdown",
   "metadata": {},
   "source": [
    "<h2 id=\"identifying-syntax-errors\">1) Identifying Syntax Errors</h2>\n",
    "\n",
    "  <ol>\n",
    "    <li>Read the code below and try to identify what the errors are\n",
    "<em>without</em> running it.</li>\n",
    "    <li>Run the code and read the error message.\n",
    "Is it a <code class=\"language-plaintext highlighter-rouge\">SyntaxError</code> or an <code class=\"language-plaintext highlighter-rouge\">IndentationError</code>?</li>\n",
    "    <li>Fix the error.</li>\n",
    "    <li>Repeat steps 2 and 3 until you have fixed all the errors.</li>\n",
    "  </ol>\n",
    "  \n",
    "  <div class=\"language-python highlighter-rouge\"><div class=\"highlight\"><pre class=\"highlight\"><code><span class=\"k\">def</span> <span class=\"nf\">another_function</span>\n",
    "  <span class=\"k\">print</span><span class=\"p\">(</span><span class=\"s\">\"Syntax errors are annoying.\"</span><span class=\"p\">)</span>\n",
    "   <span class=\"k\">print</span><span class=\"p\">(</span><span class=\"s\">\"But at least python tells us about them!\"</span><span class=\"p\">)</span>\n",
    "  <span class=\"k\">print</span><span class=\"p\">(</span><span class=\"s\">\"So they are usually not too hard to fix.\"</span><span class=\"p\">)</span>\n",
    "</code></pre></div>  </div>\n",
    "  \n",
    "  <blockquote class=\"solution\">\n",
    "    <h2 id=\"solution\">Solution</h2>\n",
    "    <div class=\"language-python highlighter-rouge\"><div class=\"highlight\"><pre class=\"highlight\"><code><span class=\"k\">def</span> <span class=\"nf\">another_function</span><span class=\"p\">():</span>\n",
    "  <span class=\"k\">print</span><span class=\"p\">(</span><span class=\"s\">\"Syntax errors are annoying.\"</span><span class=\"p\">)</span>\n",
    "  <span class=\"k\">print</span><span class=\"p\">(</span><span class=\"s\">\"But at least Python tells us about them!\"</span><span class=\"p\">)</span>\n",
    "  <span class=\"k\">print</span><span class=\"p\">(</span><span class=\"s\">\"So they are usually not too hard to fix.\"</span><span class=\"p\">)</span>\n",
    "</code></pre></div>    </div>\n",
    "  </blockquote>"
   ]
  },
  {
   "cell_type": "markdown",
   "metadata": {},
   "source": [
    "<h2 id=\"definition-and-use\">2) Definition and Use</h2>\n",
    "  <p>What does the following program print?</p>\n",
    "  <div class=\"language-python highlighter-rouge\"><div class=\"highlight\"><pre class=\"highlight\"><code><span class=\"k\">def</span> <span class=\"nf\">report</span><span class=\"p\">(</span><span class=\"n\">pressure</span><span class=\"p\">):</span>\n",
    "    <span class=\"k\">print</span><span class=\"p\">(</span><span class=\"s\">'pressure is'</span><span class=\"p\">,</span> <span class=\"n\">pressure</span><span class=\"p\">)</span>\n",
    "<span class=\"k\">print</span><span class=\"p\">(</span><span class=\"s\">'calling'</span><span class=\"p\">,</span> <span class=\"n\">report</span><span class=\"p\">,</span> <span class=\"mf\">22.5</span><span class=\"p\">)</span>\n",
    "</code></pre></div>  </div>\n",
    "  <blockquote class=\"solution\">\n",
    "    <h2 id=\"solution-1\">Solution</h2>\n",
    "    <div class=\"language-plaintext output highlighter-rouge\"><div class=\"highlight\"><pre class=\"highlight\"><code>calling &lt;function report at 0x7fd128ff1bf8&gt; 22.5\n",
    "</code></pre></div>    </div>\n",
    "    <p>A function call always needs parenthesis, otherwise you get memory address of the function object. So, if we wanted to call the function named report, and give it the value 22.5 to report on, we could have our function call as follows</p>\n",
    "    <div class=\"language-plaintext highlighter-rouge\"><div class=\"highlight\"><pre class=\"highlight\"><code>print(\"calling\")\n",
    "report(22.5)\n",
    "</code></pre></div>    </div>\n",
    "  </blockquote>"
   ]
  },
  {
   "cell_type": "markdown",
   "metadata": {},
   "source": [
    "<h2 id=\"encapsulation\">3) Encapsulation</h2>\n",
    "\n",
    "  <p>Fill in the blanks to create a function that takes a single filename as an argument,\n",
    "loads the data in the file named by the argument,\n",
    "and returns the minimum value in that data.</p>\n",
    "\n",
    "  <div class=\"language-python highlighter-rouge\"><div class=\"highlight\"><pre class=\"highlight\"><code><span class=\"kn\">import</span> <span class=\"nn\">pandas</span> <span class=\"k\">as</span> <span class=\"n\">pd</span>\n",
    "\n",
    "<span class=\"k\">def</span> <span class=\"nf\">min_in_data</span><span class=\"p\">(</span><span class=\"n\">____</span><span class=\"p\">):</span>\n",
    "    <span class=\"n\">data</span> <span class=\"o\">=</span> <span class=\"n\">____</span>\n",
    "    <span class=\"k\">return</span> <span class=\"n\">____</span>\n",
    "</code></pre></div>  </div>\n",
    "  <blockquote class=\"solution\">\n",
    "    <h2 id=\"solution-3\">Solution</h2>\n",
    "    <div class=\"language-python highlighter-rouge\">\n",
    "        <div class=\"highlight\">\n",
    "            <pre class=\"highlight\"><code><span class=\"kn\">import</span> <span class=\"nn\">pandas</span> <span class=\"k\">as</span> <span class=\"n\">pd</span>\n",
    "            <span class=\"k\">def</span> <span class=\"nf\">min_in_data</span><span class=\"p\">(</span><span class=\"n\">filename</span><span class=\"p\">):</span>\n",
    "            <span class=\"n\">data</span> <span class=\"o\">=</span> <span class=\"n\">pd</span><span class=\"p\">.</span><span class=\"n\">read_csv</span><span class=\"p\">(</span><span class=\"n\">filename</span><span class=\"p\">)</span>\n",
    "            <span class=\"k\">return</span> <span class=\"n\">data</span><span class=\"p\">.</span><span class=\"nb\">min</span><span class=\"p\">()</span>\n",
    "            </code>\n",
    "            </pre>\n",
    "        </div>    \n",
    "    </div>\n",
    "  </blockquote>"
   ]
  },
  {
   "cell_type": "code",
   "execution_count": null,
   "metadata": {},
   "outputs": [],
   "source": []
  }
 ],
 "metadata": {
  "kernelspec": {
   "display_name": "IPython (Python 3)",
   "language": "python",
   "name": "python3"
  },
  "language_info": {
   "codemirror_mode": {
    "name": "ipython",
    "version": 3
   },
   "file_extension": ".py",
   "mimetype": "text/x-python",
   "name": "python",
   "nbconvert_exporter": "python",
   "pygments_lexer": "ipython3",
   "version": "3.8.5"
  }
 },
 "nbformat": 4,
 "nbformat_minor": 4
}

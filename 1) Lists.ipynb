{
 "cells": [
  {
   "cell_type": "markdown",
   "metadata": {},
   "source": [
    "# Lists"
   ]
  },
  {
   "cell_type": "markdown",
   "metadata": {},
   "source": [
    "<ul>\n",
    "  <li>Doing calculations with a hundred variables called <code class=\"language-plaintext highlighter-rouge\">pressure_001</code>, <code class=\"language-plaintext highlighter-rouge\">pressure_002</code>, etc.,\n",
    "would be at least as slow as doing them by hand.</li>\n",
    "  <li>Use a <em>list</em> to store many values together.\n",
    "    <ul>\n",
    "      <li>Contained within square brackets <code class=\"language-plaintext highlighter-rouge\">[...]</code>.</li>\n",
    "      <li>Values separated by commas <code class=\"language-plaintext highlighter-rouge\">,</code>.</li>\n",
    "    </ul>\n",
    "  </li>\n",
    "  <li>Use <code class=\"language-plaintext highlighter-rouge\">len</code> to find out how many values are in a list.</li>\n",
    "</ul>"
   ]
  },
  {
   "cell_type": "code",
   "execution_count": null,
   "metadata": {},
   "outputs": [],
   "source": [
    "pressures = [0.273, 0.275, 0.277, 0.275, 0.276]"
   ]
  },
  {
   "cell_type": "code",
   "execution_count": null,
   "metadata": {},
   "outputs": [],
   "source": [
    "print('pressures:', pressures)"
   ]
  },
  {
   "cell_type": "code",
   "execution_count": null,
   "metadata": {},
   "outputs": [],
   "source": [
    "print('length:', len(pressures))"
   ]
  },
  {
   "cell_type": "markdown",
   "metadata": {},
   "source": [
    "<h2 id=\"use-an-items-index-to-fetch-it-from-a-list\">Use an item’s index to fetch it from a list.</h2>\n",
    "\n",
    "<ul>\n",
    "  <li>Just like strings.</li>\n",
    "</ul>"
   ]
  },
  {
   "cell_type": "code",
   "execution_count": null,
   "metadata": {},
   "outputs": [],
   "source": [
    "print('zeroth item of pressures:', pressures[0])"
   ]
  },
  {
   "cell_type": "code",
   "execution_count": null,
   "metadata": {},
   "outputs": [],
   "source": [
    "print('fourth item of pressures:', pressures[4])"
   ]
  },
  {
   "cell_type": "markdown",
   "metadata": {},
   "source": [
    "<h2 id=\"lists-values-can-be-replaced-by-assigning-to-them\">Lists’ values can be replaced by assigning to them.</h2>\n",
    "\n",
    "<ul>\n",
    "  <li>Use an index expression on the left of assignment to replace a value.</li>\n",
    "</ul>"
   ]
  },
  {
   "cell_type": "code",
   "execution_count": null,
   "metadata": {},
   "outputs": [],
   "source": [
    "pressures[0] = 0.265\n",
    "print('pressures is now:', pressures)"
   ]
  },
  {
   "cell_type": "markdown",
   "metadata": {},
   "source": [
    "<h2 id=\"appending-items-to-a-list-lengthens-it\">Appending items to a list lengthens it.</h2>\n",
    "\n",
    "<ul>\n",
    "  <li>Use <code class=\"language-plaintext highlighter-rouge\">list_name.append</code> to add items to the end of a list.</li>\n",
    "</ul>"
   ]
  },
  {
   "cell_type": "code",
   "execution_count": null,
   "metadata": {},
   "outputs": [],
   "source": [
    "primes = [2, 3, 5]\n",
    "print('primes is initially:', primes)"
   ]
  },
  {
   "cell_type": "code",
   "execution_count": null,
   "metadata": {},
   "outputs": [],
   "source": [
    "primes.append(7)\n",
    "print('primes has become:', primes)"
   ]
  },
  {
   "cell_type": "markdown",
   "metadata": {},
   "source": [
    "<ul>\n",
    "  <li><code class=\"language-plaintext highlighter-rouge\">append</code> is a <em>method</em> of lists.\n",
    "    <ul>\n",
    "      <li>Like a function, but tied to a particular object.</li>\n",
    "    </ul>\n",
    "  </li>\n",
    "  <li>Use <code class=\"language-plaintext highlighter-rouge\">object_name.method_name</code> to call methods.\n",
    "    <ul>\n",
    "      <li>Deliberately resembles the way we refer to things in a library.</li>\n",
    "    </ul>\n",
    "  </li>\n",
    "  <li>We will meet other methods of lists as we go along.\n",
    "    <ul>\n",
    "      <li>Use <code class=\"language-plaintext highlighter-rouge\">help(list)</code> for a preview.</li>\n",
    "    </ul>\n",
    "  </li>\n",
    "  <li><code class=\"language-plaintext highlighter-rouge\">extend</code> is similar to <code class=\"language-plaintext highlighter-rouge\">append</code>, but it allows you to combine two lists.  For example:</li>\n",
    "</ul>"
   ]
  },
  {
   "cell_type": "code",
   "execution_count": null,
   "metadata": {},
   "outputs": [],
   "source": [
    "teen_primes = [11, 13, 17, 19]\n",
    "middle_aged_primes = [37, 41, 43, 47]\n",
    "print('primes is currently:', primes)"
   ]
  },
  {
   "cell_type": "code",
   "execution_count": null,
   "metadata": {},
   "outputs": [],
   "source": [
    "primes.extend(teen_primes)\n",
    "print('primes has now become:', primes)"
   ]
  },
  {
   "cell_type": "code",
   "execution_count": null,
   "metadata": {},
   "outputs": [],
   "source": [
    "primes.append(middle_aged_primes)\n",
    "print('primes has finally become:', primes)"
   ]
  },
  {
   "cell_type": "markdown",
   "metadata": {},
   "source": [
    "<p>Note that while <code class=\"language-plaintext highlighter-rouge\">extend</code> maintains the “flat” structure of the list, appending a list to a list makes the result\n",
    "two-dimensional - the last element in <code class=\"language-plaintext highlighter-rouge\">primes</code> is a list, not an integer.</p>\n"
   ]
  },
  {
   "cell_type": "markdown",
   "metadata": {},
   "source": [
    "<h2 id=\"use-del-to-remove-items-from-a-list-entirely\">Use <code class=\"language-plaintext highlighter-rouge\">del</code> to remove items from a list entirely.</h2>\n",
    "\n",
    "<ul>\n",
    "  <li>We use <code class=\"language-plaintext highlighter-rouge\">del list_name[index]</code> to remove an element from a list (in the example, 9 is not a prime number) and thus shorten it.</li>\n",
    "  <li><code class=\"language-plaintext highlighter-rouge\">del</code> is not a function or a method, but a statement in the language.</li>\n",
    "</ul>"
   ]
  },
  {
   "cell_type": "code",
   "execution_count": null,
   "metadata": {},
   "outputs": [],
   "source": [
    "primes = [2, 3, 5, 7, 9]\n",
    "print('primes before removing last item:', primes)"
   ]
  },
  {
   "cell_type": "code",
   "execution_count": null,
   "metadata": {},
   "outputs": [],
   "source": [
    "del primes[4]\n",
    "print('primes after removing last item:', primes)"
   ]
  },
  {
   "cell_type": "markdown",
   "metadata": {},
   "source": [
    "<h2 id=\"the-empty-list-contains-no-values\">The empty list contains no values.</h2>\n",
    "\n",
    "<ul>\n",
    "  <li>Use <code class=\"language-plaintext highlighter-rouge\">[]</code> on its own to represent a list that doesn’t contain any values.\n",
    "    <ul>\n",
    "      <li>“The zero of lists.”</li>\n",
    "    </ul>\n",
    "  </li>\n",
    "  <li>Helpful as a starting point for collecting values\n",
    "    (which we will see in the <a href=\"../12-for-loops/\">next episode</a>).</li>\n",
    "</ul>"
   ]
  },
  {
   "cell_type": "markdown",
   "metadata": {},
   "source": [
    "<h2 id=\"lists-may-contain-values-of-different-types\">Lists may contain values of different types.</h2>\n",
    "\n",
    "<ul>\n",
    "  <li>A single list may contain numbers, strings, and anything else.</li>\n",
    "</ul>"
   ]
  },
  {
   "cell_type": "code",
   "execution_count": null,
   "metadata": {},
   "outputs": [],
   "source": [
    "goals = [1, 'Create lists.', 2, 'Extract items from lists.', 3, 'Modify lists.']"
   ]
  },
  {
   "cell_type": "markdown",
   "metadata": {},
   "source": [
    "<h2 id=\"character-strings-can-be-indexed-like-lists\">Character strings can be indexed like lists.</h2>\n",
    "\n",
    "<ul>\n",
    "  <li>Get single characters from a character string using indexes in square brackets.</li>\n",
    "</ul>"
   ]
  },
  {
   "cell_type": "code",
   "execution_count": null,
   "metadata": {},
   "outputs": [],
   "source": [
    "element = 'carbon'\n",
    "print('zeroth character:', element[0])"
   ]
  },
  {
   "cell_type": "code",
   "execution_count": null,
   "metadata": {},
   "outputs": [],
   "source": [
    "print('third character:', element[3])"
   ]
  },
  {
   "cell_type": "markdown",
   "metadata": {},
   "source": [
    "<h2 id=\"character-strings-are-immutable\">Character strings are immutable.</h2>\n",
    "\n",
    "<ul>\n",
    "  <li>Cannot change the characters in a string after it has been created.\n",
    "    <ul>\n",
    "      <li><em>Immutable</em>: can’t be changed after creation.</li>\n",
    "      <li>In contrast, lists are <em>mutable</em>: they can be modified in place.</li>\n",
    "    </ul>\n",
    "  </li>\n",
    "  <li>Python considers the string to be a single value with parts,\n",
    "not a collection of values.</li>\n",
    "</ul>"
   ]
  },
  {
   "cell_type": "code",
   "execution_count": null,
   "metadata": {},
   "outputs": [],
   "source": [
    "element[0] = 'C'"
   ]
  },
  {
   "cell_type": "markdown",
   "metadata": {},
   "source": [
    "<ul>\n",
    "  <li>Lists and character strings are both <em>collections</em>.</li>\n",
    "</ul>\n",
    "\n",
    "<h2 id=\"indexing-beyond-the-end-of-the-collection-is-an-error\">Indexing beyond the end of the collection is an error.</h2>\n",
    "\n",
    "<ul>\n",
    "  <li>Python reports an <code class=\"language-plaintext highlighter-rouge\">IndexError</code> if we attempt to access a value that doesn’t exist.\n",
    "    <ul>\n",
    "      <li>This is a kind of <a href=\"../04-built-in/#runtime-error\">runtime error</a>.</li>\n",
    "      <li>Cannot be detected as the code is parsed\n",
    "because the index might be calculated based on data.</li>\n",
    "    </ul>\n",
    "  </li>\n",
    "</ul>"
   ]
  },
  {
   "cell_type": "markdown",
   "metadata": {},
   "source": [
    "---"
   ]
  },
  {
   "cell_type": "markdown",
   "metadata": {},
   "source": [
    "# Exercises"
   ]
  },
  {
   "cell_type": "markdown",
   "metadata": {},
   "source": [
    "### 1) From strings to lists and back again\n",
    "Given this:"
   ]
  },
  {
   "cell_type": "code",
   "execution_count": null,
   "metadata": {},
   "outputs": [],
   "source": [
    "print('string to list:', list('tin'))\n",
    "print('list to string:', ''.join(['g', 'o', 'l', 'd']))"
   ]
  },
  {
   "cell_type": "markdown",
   "metadata": {},
   "source": [
    "what do these do?\n",
    "\n",
    "```list('some string')```\n",
    "\n",
    "```'-'.join(['x', 'y', 'z'])```"
   ]
  },
  {
   "cell_type": "markdown",
   "metadata": {},
   "source": [
    "### 2) Working with the end\n",
    "What does the following program print?"
   ]
  },
  {
   "cell_type": "code",
   "execution_count": null,
   "metadata": {},
   "outputs": [],
   "source": [
    "element = 'helium'\n",
    "print(element[-1])"
   ]
  },
  {
   "cell_type": "markdown",
   "metadata": {},
   "source": [
    "<ol>\n",
    "<li>How does Python interpret a negative index?\n",
    "<li>If a list or string has N elements, what is the most negative index that can safely be used with it, and what location does that index represent?\n",
    "<li>If values is a list, what does del values[-1] do?\n",
    "<li>How can you display all elements but the last one without changing values? (Hint: you will need to combine slicing and negative indexing.)\n",
    "</ol>"
   ]
  },
  {
   "cell_type": "markdown",
   "metadata": {},
   "source": [
    "### 3) Stepping through a list\n",
    "What does the following cell print?"
   ]
  },
  {
   "cell_type": "code",
   "execution_count": null,
   "metadata": {},
   "outputs": [],
   "source": [
    "element = 'fluorine'\n",
    "print(element[::2])\n",
    "print(element[::-1])"
   ]
  },
  {
   "cell_type": "markdown",
   "metadata": {},
   "source": [
    "<ol>\n",
    "    <li>If we write a slice as low:high:stride, what does stride do?\n",
    "<li>What expression would select all of the even-numbered items from a collection?\n",
    "    </ol>"
   ]
  },
  {
   "cell_type": "markdown",
   "metadata": {},
   "source": [
    "---\n",
    "# Key Points\n",
    "<ul>\n",
    "<li>A list stores many values in a single structure.\n",
    "\n",
    "<li>Use an item’s index to fetch it from a list.\n",
    "\n",
    "<li>Lists’ values can be replaced by assigning to them.\n",
    "\n",
    "<li>Appending items to a list lengthens it.\n",
    "\n",
    "<li>Use del to remove items from a list entirely.\n",
    "\n",
    "<li>The empty list contains no values.\n",
    "\n",
    "<li>Lists may contain values of different types.\n",
    "\n",
    "<li>Character strings can be indexed like lists.\n",
    "\n",
    "<li>Character strings are immutable.\n",
    "\n",
    "<li>Indexing beyond the end of the collection is an error.\n",
    "    <ul>"
   ]
  }
 ],
 "metadata": {
  "kernelspec": {
   "display_name": "IPython (Python 3)",
   "language": "python",
   "name": "python3"
  },
  "language_info": {
   "codemirror_mode": {
    "name": "ipython",
    "version": 3
   },
   "file_extension": ".py",
   "mimetype": "text/x-python",
   "name": "python",
   "nbconvert_exporter": "python",
   "pygments_lexer": "ipython3",
   "version": "3.8.5"
  }
 },
 "nbformat": 4,
 "nbformat_minor": 4
}

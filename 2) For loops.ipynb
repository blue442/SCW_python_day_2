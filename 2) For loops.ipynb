{
 "cells": [
  {
   "cell_type": "markdown",
   "metadata": {},
   "source": [
    "# For Loops\n",
    "\n",
    "### Questions\n",
    "How can I make a program do many things?\n",
    "\n",
    "### Objectives\n",
    "Explain what for loops are normally used for.\n",
    "\n",
    "Trace the execution of a simple (unnested) loop and correctly state the values of variables in each iteration.\n",
    "\n",
    "Write for loops that use the Accumulator pattern to aggregate values."
   ]
  },
  {
   "cell_type": "markdown",
   "metadata": {},
   "source": [
    "<h2 id=\"a-for-loop-executes-commands-once-for-each-value-in-a-collection\">A <em>for loop</em> executes commands once for each value in a collection.</h2>\n",
    "\n",
    "<ul>\n",
    "  <li>Doing calculations on the values in a list one by one\n",
    "is as painful as working with <code class=\"language-plaintext highlighter-rouge\">pressure_001</code>, <code class=\"language-plaintext highlighter-rouge\">pressure_002</code>, etc.</li>\n",
    "  <li>A <em>for loop</em> tells Python to execute some statements once for each value in a list,\n",
    "a character string,\n",
    "or some other collection.</li>\n",
    "  <li>“for each thing in this group, do these operations”</li>\n",
    "</ul>"
   ]
  },
  {
   "cell_type": "code",
   "execution_count": null,
   "metadata": {},
   "outputs": [],
   "source": [
    "for number in [2, 3, 5]:\n",
    "    print(number)"
   ]
  },
  {
   "cell_type": "markdown",
   "metadata": {},
   "source": [
    "<ul>\n",
    "  <li>This <code class=\"language-plaintext highlighter-rouge\">for</code> loop is equivalent to:</li>\n",
    "</ul>"
   ]
  },
  {
   "cell_type": "code",
   "execution_count": null,
   "metadata": {},
   "outputs": [],
   "source": [
    "print(2)\n",
    "print(3)\n",
    "print(5)"
   ]
  },
  {
   "cell_type": "markdown",
   "metadata": {},
   "source": [
    "<h2 id=\"a-for-loop-is-made-up-of-a-collection-a-loop-variable-and-a-body\">A <code class=\"language-plaintext highlighter-rouge\">for</code> loop is made up of a collection, a loop variable, and a body.</h2>\n",
    "\n",
    "<div class=\"language-python highlighter-rouge\"><div class=\"highlight\"><pre class=\"highlight\"><code><span class=\"k\">for</span> <span class=\"n\">number</span> <span class=\"ow\">in</span> <span class=\"p\">[</span><span class=\"mi\">2</span><span class=\"p\">,</span> <span class=\"mi\">3</span><span class=\"p\">,</span> <span class=\"mi\">5</span><span class=\"p\">]:</span>\n",
    "    <span class=\"k\">print</span><span class=\"p\">(</span><span class=\"n\">number</span><span class=\"p\">)</span>\n",
    "</code></pre></div></div>\n",
    "\n",
    "<ul>\n",
    "  <li>The collection, <code class=\"language-plaintext highlighter-rouge\">[2, 3, 5]</code>, is what the loop is being run on.</li>\n",
    "  <li>The body, <code class=\"language-plaintext highlighter-rouge\">print(number)</code>, specifies what to do for each value in the collection.</li>\n",
    "  <li>The loop variable, <code class=\"language-plaintext highlighter-rouge\">number</code>, is what changes for each <em>iteration</em> of the loop.\n",
    "    <ul>\n",
    "      <li>The “current thing”.</li>\n",
    "    </ul>\n",
    "  </li>\n",
    "</ul>\n"
   ]
  },
  {
   "cell_type": "markdown",
   "metadata": {},
   "source": [
    "<h2 id=\"the-first-line-of-the-for-loop-must-end-with-a-colon-and-the-body-must-be-indented\">The first line of the <code class=\"language-plaintext highlighter-rouge\">for</code> loop must end with a colon, and the body must be indented.</h2>\n",
    "\n",
    "<ul>\n",
    "  <li>The colon at the end of the first line signals the start of a <em>block</em> of statements.</li>\n",
    "  <li>Python uses indentation rather than <code class=\"language-plaintext highlighter-rouge\">{}</code> or <code class=\"language-plaintext highlighter-rouge\">begin</code>/<code class=\"language-plaintext highlighter-rouge\">end</code> to show <em>nesting</em>.\n",
    "    <ul>\n",
    "      <li>Any consistent indentation is legal, but almost everyone uses four spaces.</li>\n",
    "    </ul>\n",
    "  </li>\n",
    "</ul>"
   ]
  },
  {
   "cell_type": "code",
   "execution_count": null,
   "metadata": {},
   "outputs": [],
   "source": [
    "for number in [2, 3, 5]:\n",
    "print(number)"
   ]
  },
  {
   "cell_type": "markdown",
   "metadata": {},
   "source": [
    "<ul>\n",
    "  <li>Indentation is always meaningful in Python.</li>\n",
    "</ul>"
   ]
  },
  {
   "cell_type": "code",
   "execution_count": null,
   "metadata": {},
   "outputs": [],
   "source": [
    "firstName = \"Jon\"\n",
    "  lastName = \"Smith\""
   ]
  },
  {
   "cell_type": "markdown",
   "metadata": {},
   "source": [
    "<ul>\n",
    "  <li>This error can be fixed by removing the extra spaces\n",
    "at the beginning of the second line.</li>\n",
    "</ul>"
   ]
  },
  {
   "cell_type": "markdown",
   "metadata": {},
   "source": [
    "<h2 id=\"loop-variables-can-be-called-anything\">Loop variables can be called anything.</h2>\n",
    "\n",
    "<ul>\n",
    "  <li>As with all variables, loop variables are:\n",
    "    <ul>\n",
    "      <li>Created on demand.</li>\n",
    "      <li>Meaningless: their names can be anything at all.</li>\n",
    "    </ul>\n",
    "  </li>\n",
    "</ul>"
   ]
  },
  {
   "cell_type": "code",
   "execution_count": null,
   "metadata": {},
   "outputs": [],
   "source": [
    "for kitten in [2, 3, 5]:\n",
    "    print(kitten)"
   ]
  },
  {
   "cell_type": "markdown",
   "metadata": {},
   "source": [
    "<h2 id=\"the-body-of-a-loop-can-contain-many-statements\">The body of a loop can contain many statements.</h2>\n",
    "\n",
    "<ul>\n",
    "  <li>But no loop should be more than a few lines long.</li>\n",
    "  <li>Hard for human beings to keep larger chunks of code in mind.</li>\n",
    "</ul>"
   ]
  },
  {
   "cell_type": "code",
   "execution_count": null,
   "metadata": {},
   "outputs": [],
   "source": [
    "primes = [2, 3, 5]\n",
    "for p in primes:\n",
    "    squared = p ** 2\n",
    "    cubed = p ** 3\n",
    "    print(p, squared, cubed)"
   ]
  },
  {
   "cell_type": "markdown",
   "metadata": {},
   "source": [
    "<h2 id=\"use-range-to-iterate-over-a-sequence-of-numbers\">Use <code class=\"language-plaintext highlighter-rouge\">range</code> to iterate over a sequence of numbers.</h2>\n",
    "\n",
    "<ul>\n",
    "  <li>The built-in function <a href=\"https://docs.python.org/3/library/stdtypes.html#range\"><code class=\"language-plaintext highlighter-rouge\">range</code></a> produces a sequence of numbers.\n",
    "    <ul>\n",
    "      <li><em>Not</em> a list: the numbers are produced on demand\n",
    "to make looping over large ranges more efficient.</li>\n",
    "    </ul>\n",
    "  </li>\n",
    "  <li><code class=\"language-plaintext highlighter-rouge\">range(N)</code> is the numbers 0..N-1\n",
    "    <ul>\n",
    "      <li>Exactly the legal indices of a list or character string of length N</li>\n",
    "    </ul>\n",
    "  </li>\n",
    "</ul>\n"
   ]
  },
  {
   "cell_type": "code",
   "execution_count": null,
   "metadata": {},
   "outputs": [],
   "source": [
    "print('a range is not a list: range(0, 3)')\n",
    "for number in range(0, 3):\n",
    "    print(number)"
   ]
  },
  {
   "cell_type": "markdown",
   "metadata": {},
   "source": [
    "<h2 id=\"the-accumulator-pattern-turns-many-values-into-one\">The Accumulator pattern turns many values into one.</h2>\n",
    "\n",
    "<ul>\n",
    "  <li>A common pattern in programs is to:\n",
    "    <ol>\n",
    "      <li>Initialize an <em>accumulator</em> variable to zero, the empty string, or the empty list.</li>\n",
    "      <li>Update the variable with values from a collection.</li>\n",
    "    </ol>\n",
    "  </li>\n",
    "</ul>"
   ]
  },
  {
   "cell_type": "code",
   "execution_count": null,
   "metadata": {},
   "outputs": [],
   "source": [
    "# Sum the first 10 integers.\n",
    "total = 0\n",
    "for number in range(10):\n",
    "   total = total + (number + 1)\n",
    "print(total)"
   ]
  },
  {
   "cell_type": "markdown",
   "metadata": {},
   "source": [
    "<ul>\n",
    "  <li>Read <code class=\"language-plaintext highlighter-rouge\">total = total + (number + 1)</code> as:\n",
    "    <ul>\n",
    "      <li>Add 1 to the current value of the loop variable <code class=\"language-plaintext highlighter-rouge\">number</code>.</li>\n",
    "      <li>Add that to the current value of the accumulator variable <code class=\"language-plaintext highlighter-rouge\">total</code>.</li>\n",
    "      <li>Assign that to <code class=\"language-plaintext highlighter-rouge\">total</code>, replacing the current value.</li>\n",
    "    </ul>\n",
    "  </li>\n",
    "  <li>We have to add <code class=\"language-plaintext highlighter-rouge\">number + 1</code> because <code class=\"language-plaintext highlighter-rouge\">range</code> produces 0..9, not 1..10.</li>\n",
    "</ul>"
   ]
  },
  {
   "cell_type": "markdown",
   "metadata": {},
   "source": [
    "---"
   ]
  },
  {
   "cell_type": "markdown",
   "metadata": {},
   "source": [
    "# Exercises"
   ]
  },
  {
   "cell_type": "markdown",
   "metadata": {},
   "source": [
    "  <h2 id=\"reversing-a-string\">1) Reversing a String</h2>\n",
    "\n",
    "  <p>Fill in the blanks in the program below so that it prints “nit”\n",
    "(the reverse of the original character string “tin”).</p>\n",
    "\n",
    "  <div class=\"language-python highlighter-rouge\"><div class=\"highlight\"><pre class=\"highlight\"><code><span class=\"n\">original</span> <span class=\"o\">=</span> <span class=\"s\">\"tin\"</span>\n",
    "<span class=\"n\">result</span> <span class=\"o\">=</span> <span class=\"n\">____</span>\n",
    "<span class=\"k\">for</span> <span class=\"n\">char</span> <span class=\"ow\">in</span> <span class=\"n\">original</span><span class=\"p\">:</span>\n",
    "    <span class=\"n\">result</span> <span class=\"o\">=</span> <span class=\"n\">____</span>\n",
    "<span class=\"k\">print</span><span class=\"p\">(</span><span class=\"n\">result</span><span class=\"p\">)</span>\n",
    "</code></pre></div>  </div>\n",
    "  <blockquote class=\"solution\">\n",
    "    <h2 id=\"solution-2\">Solution</h2>\n",
    "    <div class=\"language-python highlighter-rouge\"><div class=\"highlight\"><pre class=\"highlight\"><code><span class=\"n\">original</span> <span class=\"o\">=</span> <span class=\"s\">\"tin\"</span>\n",
    "<span class=\"n\">result</span> <span class=\"o\">=</span> <span class=\"s\">\"\"</span>\n",
    "<span class=\"k\">for</span> <span class=\"n\">char</span> <span class=\"ow\">in</span> <span class=\"n\">original</span><span class=\"p\">:</span>\n",
    "    <span class=\"n\">result</span> <span class=\"o\">=</span> <span class=\"n\">char</span> <span class=\"o\">+</span> <span class=\"n\">result</span>\n",
    "<span class=\"k\">print</span><span class=\"p\">(</span><span class=\"n\">result</span><span class=\"p\">)</span>\n",
    "</code></pre></div>    </div>\n",
    "  </blockquote>"
   ]
  },
  {
   "cell_type": "markdown",
   "metadata": {},
   "source": [
    "<h2 id=\"practice-accumulating\">2) Practice Accumulating</h2>\n",
    "\n",
    "  <p>Fill in the blanks in each of the programs below\n",
    "to produce the indicated result.</p>\n",
    "\n",
    "  <div class=\"language-python highlighter-rouge\"><div class=\"highlight\"><pre class=\"highlight\"><code><span class=\"c1\"># Total length of the strings in the list: [\"red\", \"green\", \"blue\"] =&gt; 12\n",
    "</span><span class=\"n\">total</span> <span class=\"o\">=</span> <span class=\"mi\">0</span>\n",
    "<span class=\"k\">for</span> <span class=\"n\">word</span> <span class=\"ow\">in</span> <span class=\"p\">[</span><span class=\"s\">\"red\"</span><span class=\"p\">,</span> <span class=\"s\">\"green\"</span><span class=\"p\">,</span> <span class=\"s\">\"blue\"</span><span class=\"p\">]:</span>\n",
    "    <span class=\"n\">____</span> <span class=\"o\">=</span> <span class=\"n\">____</span> <span class=\"o\">+</span> <span class=\"nb\">len</span><span class=\"p\">(</span><span class=\"n\">word</span><span class=\"p\">)</span>\n",
    "<span class=\"k\">print</span><span class=\"p\">(</span><span class=\"n\">total</span><span class=\"p\">)</span>\n",
    "</code></pre></div>  </div>\n",
    "  <blockquote class=\"solution\">\n",
    "    <h2 id=\"solution-3\">Solution</h2>\n",
    "    <div class=\"language-python highlighter-rouge\"><div class=\"highlight\"><pre class=\"highlight\"><code><span class=\"n\">total</span> <span class=\"o\">=</span> <span class=\"mi\">0</span>\n",
    "<span class=\"k\">for</span> <span class=\"n\">word</span> <span class=\"ow\">in</span> <span class=\"p\">[</span><span class=\"s\">\"red\"</span><span class=\"p\">,</span> <span class=\"s\">\"green\"</span><span class=\"p\">,</span> <span class=\"s\">\"blue\"</span><span class=\"p\">]:</span>\n",
    "    <span class=\"n\">total</span> <span class=\"o\">=</span> <span class=\"n\">total</span> <span class=\"o\">+</span> <span class=\"nb\">len</span><span class=\"p\">(</span><span class=\"n\">word</span><span class=\"p\">)</span>\n",
    "<span class=\"k\">print</span><span class=\"p\">(</span><span class=\"n\">total</span><span class=\"p\">)</span>\n",
    "</code></pre></div>    </div>"
   ]
  },
  {
   "cell_type": "markdown",
   "metadata": {},
   "source": [
    "<div class=\"language-python highlighter-rouge\"><div class=\"highlight\"><pre class=\"highlight\"><code><span class=\"c1\"># Concatenate all words: [\"red\", \"green\", \"blue\"] =&gt; \"redgreenblue\"\n",
    "</span><span class=\"n\">words</span> <span class=\"o\">=</span> <span class=\"p\">[</span><span class=\"s\">\"red\"</span><span class=\"p\">,</span> <span class=\"s\">\"green\"</span><span class=\"p\">,</span> <span class=\"s\">\"blue\"</span><span class=\"p\">]</span>\n",
    "<span class=\"n\">result</span> <span class=\"o\">=</span> <span class=\"n\">____</span>\n",
    "<span class=\"k\">for</span> <span class=\"n\">____</span> <span class=\"ow\">in</span> <span class=\"n\">____</span><span class=\"p\">:</span>\n",
    "    <span class=\"n\">____</span>\n",
    "<span class=\"k\">print</span><span class=\"p\">(</span><span class=\"n\">result</span><span class=\"p\">)</span>\n",
    "</code></pre></div>  </div>\n",
    "  <blockquote class=\"solution\">\n",
    "    <h2 id=\"solution-5\">Solution</h2>\n",
    "    <div class=\"language-python highlighter-rouge\"><div class=\"highlight\"><pre class=\"highlight\"><code><span class=\"n\">words</span> <span class=\"o\">=</span> <span class=\"p\">[</span><span class=\"s\">\"red\"</span><span class=\"p\">,</span> <span class=\"s\">\"green\"</span><span class=\"p\">,</span> <span class=\"s\">\"blue\"</span><span class=\"p\">]</span>\n",
    "<span class=\"n\">result</span> <span class=\"o\">=</span> <span class=\"s\">\"\"</span>\n",
    "<span class=\"k\">for</span> <span class=\"n\">word</span> <span class=\"ow\">in</span> <span class=\"n\">words</span><span class=\"p\">:</span>\n",
    "    <span class=\"n\">result</span> <span class=\"o\">=</span> <span class=\"n\">result</span> <span class=\"o\">+</span> <span class=\"n\">word</span>\n",
    "<span class=\"k\">print</span><span class=\"p\">(</span><span class=\"n\">result</span><span class=\"p\">)</span>\n",
    "</code></pre></div>    </div>\n",
    "  </blockquote>\n"
   ]
  },
  {
   "cell_type": "markdown",
   "metadata": {},
   "source": [
    "<h2 id=\"cumulative-sum\">3) Cumulative Sum</h2>\n",
    "\n",
    "  <p>Reorder and properly indent the lines of code below\n",
    "so that they print a list with the cumulative sum of data.\n",
    "The result should be <code class=\"language-plaintext highlighter-rouge\">[1, 3, 5, 10]</code>.</p>\n",
    "\n",
    "  <div class=\"language-python highlighter-rouge\"><div class=\"highlight\"><pre class=\"highlight\"><code><span class=\"n\">cumulative</span><span class=\"p\">.</span><span class=\"n\">append</span><span class=\"p\">(</span><span class=\"nb\">sum</span><span class=\"p\">)</span>\n",
    "<span class=\"k\">for</span> <span class=\"n\">number</span> <span class=\"ow\">in</span> <span class=\"n\">data</span><span class=\"p\">:</span>\n",
    "<span class=\"n\">cumulative</span> <span class=\"o\">=</span> <span class=\"p\">[]</span>\n",
    "<span class=\"nb\">sum</span> <span class=\"o\">+=</span> <span class=\"n\">number</span>\n",
    "<span class=\"nb\">sum</span> <span class=\"o\">=</span> <span class=\"mi\">0</span>\n",
    "<span class=\"k\">print</span><span class=\"p\">(</span><span class=\"n\">cumulative</span><span class=\"p\">)</span>\n",
    "<span class=\"n\">data</span> <span class=\"o\">=</span> <span class=\"p\">[</span><span class=\"mi\">1</span><span class=\"p\">,</span><span class=\"mi\">2</span><span class=\"p\">,</span><span class=\"mi\">2</span><span class=\"p\">,</span><span class=\"mi\">5</span><span class=\"p\">]</span>\n",
    "</code></pre></div>  </div>\n",
    "  <blockquote class=\"solution\">\n",
    "    <h2 id=\"solution-7\">Solution</h2>\n",
    "    <div class=\"language-python highlighter-rouge\"><div class=\"highlight\"><pre class=\"highlight\"><code><span class=\"nb\">sum</span> <span class=\"o\">=</span> <span class=\"mi\">0</span>\n",
    "<span class=\"n\">data</span> <span class=\"o\">=</span> <span class=\"p\">[</span><span class=\"mi\">1</span><span class=\"p\">,</span><span class=\"mi\">2</span><span class=\"p\">,</span><span class=\"mi\">2</span><span class=\"p\">,</span><span class=\"mi\">5</span><span class=\"p\">]</span>\n",
    "<span class=\"n\">cumulative</span> <span class=\"o\">=</span> <span class=\"p\">[]</span>\n",
    "<span class=\"k\">for</span> <span class=\"n\">number</span> <span class=\"ow\">in</span> <span class=\"n\">data</span><span class=\"p\">:</span>\n",
    "    <span class=\"nb\">sum</span> <span class=\"o\">+=</span> <span class=\"n\">number</span>\n",
    "    <span class=\"n\">cumulative</span><span class=\"p\">.</span><span class=\"n\">append</span><span class=\"p\">(</span><span class=\"nb\">sum</span><span class=\"p\">)</span>\n",
    "<span class=\"k\">print</span><span class=\"p\">(</span><span class=\"n\">cumulative</span><span class=\"p\">)</span>\n",
    "</code></pre></div>    </div>\n",
    "  </blockquote>"
   ]
  },
  {
   "cell_type": "markdown",
   "metadata": {},
   "source": [
    "  <h2 id=\"identifying-variable-name-errors\">4) Identifying Variable Name Errors</h2>\n",
    "\n",
    "  <ol>\n",
    "    <li>Read the code below and try to identify what the errors are\n",
    "<em>without</em> running it.</li>\n",
    "    <li>Run the code and read the error message.\n",
    "What type of <code class=\"language-plaintext highlighter-rouge\">NameError</code> do you think this is?\n",
    "Is it a string with no quotes, a misspelled variable, or a\n",
    "variable that should have been defined but was not?</li>\n",
    "    <li>Fix the error.</li>\n",
    "    <li>Repeat steps 2 and 3, until you have fixed all the errors.</li>\n",
    "  </ol>\n",
    "\n",
    "  <div class=\"language-python highlighter-rouge\"><div class=\"highlight\"><pre class=\"highlight\"><code><span class=\"k\">for</span> <span class=\"n\">number</span> <span class=\"ow\">in</span> <span class=\"nb\">range</span><span class=\"p\">(</span><span class=\"mi\">10</span><span class=\"p\">):</span>\n",
    "    <span class=\"c1\"># use a if the number is a multiple of 3, otherwise use b\n",
    "</span>    <span class=\"k\">if</span> <span class=\"p\">(</span><span class=\"n\">Number</span> <span class=\"o\">%</span> <span class=\"mi\">3</span><span class=\"p\">)</span> <span class=\"o\">==</span> <span class=\"mi\">0</span><span class=\"p\">:</span>\n",
    "        <span class=\"n\">message</span> <span class=\"o\">=</span> <span class=\"n\">message</span> <span class=\"o\">+</span> <span class=\"n\">a</span>\n",
    "    <span class=\"k\">else</span><span class=\"p\">:</span>\n",
    "        <span class=\"n\">message</span> <span class=\"o\">=</span> <span class=\"n\">message</span> <span class=\"o\">+</span> <span class=\"s\">\"b\"</span>\n",
    "<span class=\"k\">print</span><span class=\"p\">(</span><span class=\"n\">message</span><span class=\"p\">)</span>\n",
    "</code></pre></div>  </div>\n",
    "  <blockquote class=\"solution\">\n",
    "    <h2 id=\"solution-8\">Solution</h2>\n",
    "    <p>The variable <code class=\"language-plaintext highlighter-rouge\">message</code> needs to be initialized and Python variable names are case sensitive: <code class=\"language-plaintext highlighter-rouge\">number</code> and <code class=\"language-plaintext highlighter-rouge\">Number</code>\n",
    "refer to different variables.</p>\n",
    "    <div class=\"language-python highlighter-rouge\"><div class=\"highlight\"><pre class=\"highlight\"><code><span class=\"n\">message</span> <span class=\"o\">=</span> <span class=\"s\">\"\"</span>\n",
    "<span class=\"k\">for</span> <span class=\"n\">number</span> <span class=\"ow\">in</span> <span class=\"nb\">range</span><span class=\"p\">(</span><span class=\"mi\">10</span><span class=\"p\">):</span>\n",
    "    <span class=\"c1\"># use a if the number is a multiple of 3, otherwise use b\n",
    "</span>    <span class=\"k\">if</span> <span class=\"p\">(</span><span class=\"n\">number</span> <span class=\"o\">%</span> <span class=\"mi\">3</span><span class=\"p\">)</span> <span class=\"o\">==</span> <span class=\"mi\">0</span><span class=\"p\">:</span>\n",
    "        <span class=\"n\">message</span> <span class=\"o\">=</span> <span class=\"n\">message</span> <span class=\"o\">+</span> <span class=\"s\">\"a\"</span>\n",
    "    <span class=\"k\">else</span><span class=\"p\">:</span>\n",
    "        <span class=\"n\">message</span> <span class=\"o\">=</span> <span class=\"n\">message</span> <span class=\"o\">+</span> <span class=\"s\">\"b\"</span>\n",
    "<span class=\"k\">print</span><span class=\"p\">(</span><span class=\"n\">message</span><span class=\"p\">)</span>\n",
    "</code></pre></div>    </div>\n",
    "  </blockquote>\n"
   ]
  },
  {
   "cell_type": "code",
   "execution_count": null,
   "metadata": {},
   "outputs": [],
   "source": []
  }
 ],
 "metadata": {
  "kernelspec": {
   "display_name": "IPython (Python 3)",
   "language": "python",
   "name": "python3"
  },
  "language_info": {
   "codemirror_mode": {
    "name": "ipython",
    "version": 3
   },
   "file_extension": ".py",
   "mimetype": "text/x-python",
   "name": "python",
   "nbconvert_exporter": "python",
   "pygments_lexer": "ipython3",
   "version": "3.8.5"
  }
 },
 "nbformat": 4,
 "nbformat_minor": 4
}

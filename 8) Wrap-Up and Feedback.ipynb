{
 "cells": [
  {
   "cell_type": "markdown",
   "metadata": {},
   "source": [
    "# Wrap up"
   ]
  },
  {
   "cell_type": "markdown",
   "metadata": {},
   "source": [
    "<strong>Questions</strong>\n",
    "      <ul>\n",
    "\t<li><p>What have we learned?</p>\n",
    "</li>\n",
    "\t<li><p>What else is out there and where do I find it?</p>\n",
    "</li>\n",
    "      </ul>\n",
    "<strong>Objectives</strong>\n",
    "      <ul>\n",
    "\t<li><p>Name and locate scientific Python community sites for software, workshops, and help.</p>\n",
    "</li>\n",
    "      </ul>"
   ]
  },
  {
   "cell_type": "markdown",
   "metadata": {},
   "source": [
    "</blockquote>\n",
    "\n",
    "<p>Leslie Lamport once said, “Writing is nature’s way of showing you how sloppy your thinking is.”\n",
    "The same is true of programming:\n",
    "many things that seem obvious when we’re thinking about them\n",
    "turn out to be anything but when we have to explain them precisely.</p>"
   ]
  },
  {
   "cell_type": "markdown",
   "metadata": {},
   "source": [
    "<h2 id=\"python-supports-a-large-and-diverse-community-across-academia-and-industry\">Python supports a large and diverse community across academia and industry.</h2>\n",
    "\n",
    "<ul>\n",
    "  <li>\n",
    "    <p>The <a href=\"https://docs.python.org/3/\">Python 3 documentation</a> covers the core language\n",
    "and the standard library.</p>\n",
    "  </li>\n",
    "  <li>\n",
    "    <p><a href=\"https://pycon.org/\">PyCon</a> is the largest annual conference for the Python community.</p>\n",
    "  </li>\n",
    "  <li>\n",
    "    <p><a href=\"https://scipy.org\">SciPy</a> is a rich collection of scientific utilities.\n",
    "It is also the name of <a href=\"https://conference.scipy.org/\">a series of annual conferences</a>.</p>\n",
    "  </li>\n",
    "  <li>\n",
    "    <p><a href=\"https://jupyter.org\">Jupyter</a> is the home of Project Jupyter.</p>\n",
    "  </li>\n",
    "  <li>\n",
    "    <p><a href=\"https://pandas.pydata.org\">Pandas</a> is the home of the Pandas data library.</p>\n",
    "  </li>\n",
    "  <li>\n",
    "    <p>Stack Overflow’s <a href=\"https://stackoverflow.com/questions/tagged/python?tab=Votes\">general Python section</a>\n",
    "can be helpful,\n",
    "as well as the sections on <a href=\"https://stackoverflow.com/questions/tagged/numpy?tab=Votes\">NumPy</a>,\n",
    "<a href=\"https://stackoverflow.com/questions/tagged/scipy?tab=Votes\">SciPy</a>, and\n",
    "<a href=\"https://stackoverflow.com/questions/tagged/pandas?tab=Votes\">Pandas</a>.</p>\n",
    "  </li>\n",
    "</ul>"
   ]
  },
  {
   "cell_type": "markdown",
   "metadata": {},
   "source": [
    "  <h2>Key Points</h2>\n",
    "  <ul>\n",
    "    <li><p>Python supports a large and diverse community across academia and industry.</p>\n",
    "</li>\n",
    "  </ul>"
   ]
  },
  {
   "cell_type": "markdown",
   "metadata": {},
   "source": [
    "---\n",
    "# Feedback"
   ]
  },
  {
   "cell_type": "markdown",
   "metadata": {},
   "source": [
    "<strong>Questions</strong>\n",
    "      <ul>\n",
    "\t<li><p>How did the class go?</p>\n",
    "</li>\n",
    "      </ul>\n",
    "<strong>Objectives</strong>\n",
    "      <ul>\n",
    "\t<li><p>Gather feedback on the class</p>\n",
    "</li>\n",
    "      </ul>"
   ]
  },
  {
   "cell_type": "markdown",
   "metadata": {},
   "source": [
    "  <h2>Key Points</h2>\n",
    "  <ul>\n",
    "    <li><p>We are constantly seeking to improve this course.</p>\n",
    "</li>\n",
    "  </ul>"
   ]
  },
  {
   "cell_type": "code",
   "execution_count": null,
   "metadata": {},
   "outputs": [],
   "source": []
  }
 ],
 "metadata": {
  "kernelspec": {
   "display_name": "IPython (Python 3)",
   "language": "python",
   "name": "python3"
  },
  "language_info": {
   "codemirror_mode": {
    "name": "ipython",
    "version": 3
   },
   "file_extension": ".py",
   "mimetype": "text/x-python",
   "name": "python",
   "nbconvert_exporter": "python",
   "pygments_lexer": "ipython3",
   "version": "3.8.5"
  }
 },
 "nbformat": 4,
 "nbformat_minor": 4
}
